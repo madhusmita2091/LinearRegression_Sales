{
 "cells": [
  {
   "cell_type": "code",
   "execution_count": 1,
   "metadata": {},
   "outputs": [],
   "source": [
    "import pandas as pd\n",
    "import numpy as np\n",
    "import matplotlib.pyplot as plt\n",
    "%matplotlib inline\n",
    "pd.options.display.max_columns = 100\n",
    "plt.style.use('ggplot')\n",
    "import seaborn as sns\n",
    "from scipy.stats import norm\n",
    "from sklearn.preprocessing import LabelEncoder,MinMaxScaler\n",
    "from sklearn.model_selection import KFold,RandomizedSearchCV,StratifiedKFold,train_test_split\n",
    "from sklearn.metrics import accuracy_score\n",
    "from sklearn.ensemble import RandomForestClassifier\n",
    "import lightgbm as lgb\n",
    "import xgboost as xgb"
   ]
  },
  {
   "cell_type": "code",
   "execution_count": 2,
   "metadata": {},
   "outputs": [],
   "source": [
    "train = pd.read_csv(\"train.csv\")\n",
    "test  = pd.read_csv(\"test.csv\")"
   ]
  },
  {
   "cell_type": "code",
   "execution_count": 3,
   "metadata": {},
   "outputs": [
    {
     "data": {
      "text/html": [
       "<div>\n",
       "<style scoped>\n",
       "    .dataframe tbody tr th:only-of-type {\n",
       "        vertical-align: middle;\n",
       "    }\n",
       "\n",
       "    .dataframe tbody tr th {\n",
       "        vertical-align: top;\n",
       "    }\n",
       "\n",
       "    .dataframe thead th {\n",
       "        text-align: right;\n",
       "    }\n",
       "</style>\n",
       "<table border=\"1\" class=\"dataframe\">\n",
       "  <thead>\n",
       "    <tr style=\"text-align: right;\">\n",
       "      <th></th>\n",
       "      <th>Loan_ID</th>\n",
       "      <th>Loan_Amount_Requested</th>\n",
       "      <th>Length_Employed</th>\n",
       "      <th>Home_Owner</th>\n",
       "      <th>Annual_Income</th>\n",
       "      <th>Income_Verified</th>\n",
       "      <th>Purpose_Of_Loan</th>\n",
       "      <th>Debt_To_Income</th>\n",
       "      <th>Inquiries_Last_6Mo</th>\n",
       "      <th>Months_Since_Deliquency</th>\n",
       "      <th>Number_Open_Accounts</th>\n",
       "      <th>Total_Accounts</th>\n",
       "      <th>Gender</th>\n",
       "      <th>Interest_Rate</th>\n",
       "    </tr>\n",
       "  </thead>\n",
       "  <tbody>\n",
       "    <tr>\n",
       "      <td>0</td>\n",
       "      <td>10000001</td>\n",
       "      <td>7,000</td>\n",
       "      <td>&lt; 1 year</td>\n",
       "      <td>Rent</td>\n",
       "      <td>68000.0</td>\n",
       "      <td>not verified</td>\n",
       "      <td>car</td>\n",
       "      <td>18.37</td>\n",
       "      <td>0</td>\n",
       "      <td>NaN</td>\n",
       "      <td>9</td>\n",
       "      <td>14</td>\n",
       "      <td>Female</td>\n",
       "      <td>1</td>\n",
       "    </tr>\n",
       "    <tr>\n",
       "      <td>1</td>\n",
       "      <td>10000002</td>\n",
       "      <td>30,000</td>\n",
       "      <td>4 years</td>\n",
       "      <td>Mortgage</td>\n",
       "      <td>NaN</td>\n",
       "      <td>VERIFIED - income</td>\n",
       "      <td>debt_consolidation</td>\n",
       "      <td>14.93</td>\n",
       "      <td>0</td>\n",
       "      <td>17.0</td>\n",
       "      <td>12</td>\n",
       "      <td>24</td>\n",
       "      <td>Female</td>\n",
       "      <td>3</td>\n",
       "    </tr>\n",
       "    <tr>\n",
       "      <td>2</td>\n",
       "      <td>10000003</td>\n",
       "      <td>24,725</td>\n",
       "      <td>7 years</td>\n",
       "      <td>Mortgage</td>\n",
       "      <td>75566.4</td>\n",
       "      <td>VERIFIED - income source</td>\n",
       "      <td>debt_consolidation</td>\n",
       "      <td>15.88</td>\n",
       "      <td>0</td>\n",
       "      <td>NaN</td>\n",
       "      <td>12</td>\n",
       "      <td>16</td>\n",
       "      <td>Male</td>\n",
       "      <td>3</td>\n",
       "    </tr>\n",
       "    <tr>\n",
       "      <td>3</td>\n",
       "      <td>10000004</td>\n",
       "      <td>16,000</td>\n",
       "      <td>&lt; 1 year</td>\n",
       "      <td>NaN</td>\n",
       "      <td>56160.0</td>\n",
       "      <td>VERIFIED - income source</td>\n",
       "      <td>debt_consolidation</td>\n",
       "      <td>14.34</td>\n",
       "      <td>3</td>\n",
       "      <td>NaN</td>\n",
       "      <td>16</td>\n",
       "      <td>22</td>\n",
       "      <td>Male</td>\n",
       "      <td>3</td>\n",
       "    </tr>\n",
       "    <tr>\n",
       "      <td>4</td>\n",
       "      <td>10000005</td>\n",
       "      <td>17,000</td>\n",
       "      <td>8 years</td>\n",
       "      <td>Own</td>\n",
       "      <td>96000.0</td>\n",
       "      <td>VERIFIED - income source</td>\n",
       "      <td>debt_consolidation</td>\n",
       "      <td>22.17</td>\n",
       "      <td>1</td>\n",
       "      <td>NaN</td>\n",
       "      <td>19</td>\n",
       "      <td>30</td>\n",
       "      <td>Female</td>\n",
       "      <td>1</td>\n",
       "    </tr>\n",
       "  </tbody>\n",
       "</table>\n",
       "</div>"
      ],
      "text/plain": [
       "    Loan_ID Loan_Amount_Requested Length_Employed Home_Owner  Annual_Income  \\\n",
       "0  10000001                 7,000        < 1 year       Rent        68000.0   \n",
       "1  10000002                30,000         4 years   Mortgage            NaN   \n",
       "2  10000003                24,725         7 years   Mortgage        75566.4   \n",
       "3  10000004                16,000        < 1 year        NaN        56160.0   \n",
       "4  10000005                17,000         8 years        Own        96000.0   \n",
       "\n",
       "            Income_Verified     Purpose_Of_Loan  Debt_To_Income  \\\n",
       "0              not verified                 car           18.37   \n",
       "1         VERIFIED - income  debt_consolidation           14.93   \n",
       "2  VERIFIED - income source  debt_consolidation           15.88   \n",
       "3  VERIFIED - income source  debt_consolidation           14.34   \n",
       "4  VERIFIED - income source  debt_consolidation           22.17   \n",
       "\n",
       "   Inquiries_Last_6Mo  Months_Since_Deliquency  Number_Open_Accounts  \\\n",
       "0                   0                      NaN                     9   \n",
       "1                   0                     17.0                    12   \n",
       "2                   0                      NaN                    12   \n",
       "3                   3                      NaN                    16   \n",
       "4                   1                      NaN                    19   \n",
       "\n",
       "   Total_Accounts  Gender  Interest_Rate  \n",
       "0              14  Female              1  \n",
       "1              24  Female              3  \n",
       "2              16    Male              3  \n",
       "3              22    Male              3  \n",
       "4              30  Female              1  "
      ]
     },
     "execution_count": 3,
     "metadata": {},
     "output_type": "execute_result"
    }
   ],
   "source": [
    "train.head()"
   ]
  },
  {
   "cell_type": "code",
   "execution_count": 4,
   "metadata": {},
   "outputs": [
    {
     "data": {
      "text/html": [
       "<div>\n",
       "<style scoped>\n",
       "    .dataframe tbody tr th:only-of-type {\n",
       "        vertical-align: middle;\n",
       "    }\n",
       "\n",
       "    .dataframe tbody tr th {\n",
       "        vertical-align: top;\n",
       "    }\n",
       "\n",
       "    .dataframe thead th {\n",
       "        text-align: right;\n",
       "    }\n",
       "</style>\n",
       "<table border=\"1\" class=\"dataframe\">\n",
       "  <thead>\n",
       "    <tr style=\"text-align: right;\">\n",
       "      <th></th>\n",
       "      <th>Loan_ID</th>\n",
       "      <th>Loan_Amount_Requested</th>\n",
       "      <th>Length_Employed</th>\n",
       "      <th>Home_Owner</th>\n",
       "      <th>Annual_Income</th>\n",
       "      <th>Income_Verified</th>\n",
       "      <th>Purpose_Of_Loan</th>\n",
       "      <th>Debt_To_Income</th>\n",
       "      <th>Inquiries_Last_6Mo</th>\n",
       "      <th>Months_Since_Deliquency</th>\n",
       "      <th>Number_Open_Accounts</th>\n",
       "      <th>Total_Accounts</th>\n",
       "      <th>Gender</th>\n",
       "    </tr>\n",
       "  </thead>\n",
       "  <tbody>\n",
       "    <tr>\n",
       "      <td>0</td>\n",
       "      <td>10164310</td>\n",
       "      <td>27,500</td>\n",
       "      <td>10+ years</td>\n",
       "      <td>Mortgage</td>\n",
       "      <td>129000.0</td>\n",
       "      <td>VERIFIED - income</td>\n",
       "      <td>debt_consolidation</td>\n",
       "      <td>12.87</td>\n",
       "      <td>0</td>\n",
       "      <td>68.0</td>\n",
       "      <td>10</td>\n",
       "      <td>37</td>\n",
       "      <td>Male</td>\n",
       "    </tr>\n",
       "    <tr>\n",
       "      <td>1</td>\n",
       "      <td>10164311</td>\n",
       "      <td>26,000</td>\n",
       "      <td>10+ years</td>\n",
       "      <td>NaN</td>\n",
       "      <td>110000.0</td>\n",
       "      <td>not verified</td>\n",
       "      <td>credit_card</td>\n",
       "      <td>11.37</td>\n",
       "      <td>0</td>\n",
       "      <td>NaN</td>\n",
       "      <td>6</td>\n",
       "      <td>23</td>\n",
       "      <td>Male</td>\n",
       "    </tr>\n",
       "    <tr>\n",
       "      <td>2</td>\n",
       "      <td>10164312</td>\n",
       "      <td>6,075</td>\n",
       "      <td>&lt; 1 year</td>\n",
       "      <td>Rent</td>\n",
       "      <td>75000.0</td>\n",
       "      <td>VERIFIED - income</td>\n",
       "      <td>debt_consolidation</td>\n",
       "      <td>6.83</td>\n",
       "      <td>2</td>\n",
       "      <td>NaN</td>\n",
       "      <td>5</td>\n",
       "      <td>20</td>\n",
       "      <td>Male</td>\n",
       "    </tr>\n",
       "    <tr>\n",
       "      <td>3</td>\n",
       "      <td>10164313</td>\n",
       "      <td>12,000</td>\n",
       "      <td>10+ years</td>\n",
       "      <td>Mortgage</td>\n",
       "      <td>73000.0</td>\n",
       "      <td>VERIFIED - income source</td>\n",
       "      <td>debt_consolidation</td>\n",
       "      <td>7.76</td>\n",
       "      <td>0</td>\n",
       "      <td>NaN</td>\n",
       "      <td>6</td>\n",
       "      <td>8</td>\n",
       "      <td>Male</td>\n",
       "    </tr>\n",
       "    <tr>\n",
       "      <td>4</td>\n",
       "      <td>10164314</td>\n",
       "      <td>35,000</td>\n",
       "      <td>&lt; 1 year</td>\n",
       "      <td>Mortgage</td>\n",
       "      <td>156000.0</td>\n",
       "      <td>not verified</td>\n",
       "      <td>debt_consolidation</td>\n",
       "      <td>9.62</td>\n",
       "      <td>0</td>\n",
       "      <td>26.0</td>\n",
       "      <td>9</td>\n",
       "      <td>21</td>\n",
       "      <td>Male</td>\n",
       "    </tr>\n",
       "  </tbody>\n",
       "</table>\n",
       "</div>"
      ],
      "text/plain": [
       "    Loan_ID Loan_Amount_Requested Length_Employed Home_Owner  Annual_Income  \\\n",
       "0  10164310                27,500       10+ years   Mortgage       129000.0   \n",
       "1  10164311                26,000       10+ years        NaN       110000.0   \n",
       "2  10164312                 6,075        < 1 year       Rent        75000.0   \n",
       "3  10164313                12,000       10+ years   Mortgage        73000.0   \n",
       "4  10164314                35,000        < 1 year   Mortgage       156000.0   \n",
       "\n",
       "            Income_Verified     Purpose_Of_Loan  Debt_To_Income  \\\n",
       "0         VERIFIED - income  debt_consolidation           12.87   \n",
       "1              not verified         credit_card           11.37   \n",
       "2         VERIFIED - income  debt_consolidation            6.83   \n",
       "3  VERIFIED - income source  debt_consolidation            7.76   \n",
       "4              not verified  debt_consolidation            9.62   \n",
       "\n",
       "   Inquiries_Last_6Mo  Months_Since_Deliquency  Number_Open_Accounts  \\\n",
       "0                   0                     68.0                    10   \n",
       "1                   0                      NaN                     6   \n",
       "2                   2                      NaN                     5   \n",
       "3                   0                      NaN                     6   \n",
       "4                   0                     26.0                     9   \n",
       "\n",
       "   Total_Accounts Gender  \n",
       "0              37   Male  \n",
       "1              23   Male  \n",
       "2              20   Male  \n",
       "3               8   Male  \n",
       "4              21   Male  "
      ]
     },
     "execution_count": 4,
     "metadata": {},
     "output_type": "execute_result"
    }
   ],
   "source": [
    "test.head()"
   ]
  },
  {
   "cell_type": "code",
   "execution_count": 5,
   "metadata": {},
   "outputs": [
    {
     "data": {
      "text/plain": [
       "((164309, 14), (109541, 13))"
      ]
     },
     "execution_count": 5,
     "metadata": {},
     "output_type": "execute_result"
    }
   ],
   "source": [
    "train.shape, test.shape"
   ]
  },
  {
   "cell_type": "code",
   "execution_count": 6,
   "metadata": {},
   "outputs": [
    {
     "name": "stdout",
     "output_type": "stream",
     "text": [
      "<class 'pandas.core.frame.DataFrame'>\n",
      "RangeIndex: 164309 entries, 0 to 164308\n",
      "Data columns (total 14 columns):\n",
      "Loan_ID                    164309 non-null int64\n",
      "Loan_Amount_Requested      164309 non-null object\n",
      "Length_Employed            156938 non-null object\n",
      "Home_Owner                 138960 non-null object\n",
      "Annual_Income              139207 non-null float64\n",
      "Income_Verified            164309 non-null object\n",
      "Purpose_Of_Loan            164309 non-null object\n",
      "Debt_To_Income             164309 non-null float64\n",
      "Inquiries_Last_6Mo         164309 non-null int64\n",
      "Months_Since_Deliquency    75930 non-null float64\n",
      "Number_Open_Accounts       164309 non-null int64\n",
      "Total_Accounts             164309 non-null int64\n",
      "Gender                     164309 non-null object\n",
      "Interest_Rate              164309 non-null int64\n",
      "dtypes: float64(3), int64(5), object(6)\n",
      "memory usage: 17.6+ MB\n"
     ]
    }
   ],
   "source": [
    "train.info()"
   ]
  },
  {
   "cell_type": "code",
   "execution_count": 7,
   "metadata": {},
   "outputs": [
    {
     "name": "stdout",
     "output_type": "stream",
     "text": [
      "<class 'pandas.core.frame.DataFrame'>\n",
      "RangeIndex: 109541 entries, 0 to 109540\n",
      "Data columns (total 13 columns):\n",
      "Loan_ID                    109541 non-null int64\n",
      "Loan_Amount_Requested      109541 non-null object\n",
      "Length_Employed            104605 non-null object\n",
      "Home_Owner                 92830 non-null object\n",
      "Annual_Income              92643 non-null float64\n",
      "Income_Verified            109541 non-null object\n",
      "Purpose_Of_Loan            109541 non-null object\n",
      "Debt_To_Income             109541 non-null float64\n",
      "Inquiries_Last_6Mo         109541 non-null int64\n",
      "Months_Since_Deliquency    50682 non-null float64\n",
      "Number_Open_Accounts       109541 non-null int64\n",
      "Total_Accounts             109541 non-null int64\n",
      "Gender                     109541 non-null object\n",
      "dtypes: float64(3), int64(4), object(6)\n",
      "memory usage: 10.9+ MB\n"
     ]
    }
   ],
   "source": [
    "test.info()"
   ]
  },
  {
   "cell_type": "code",
   "execution_count": 8,
   "metadata": {},
   "outputs": [
    {
     "data": {
      "text/plain": [
       "Loan_ID                     0.000000\n",
       "Loan_Amount_Requested       0.000000\n",
       "Length_Employed             4.486060\n",
       "Home_Owner                 15.427639\n",
       "Annual_Income              15.277313\n",
       "Income_Verified             0.000000\n",
       "Purpose_Of_Loan             0.000000\n",
       "Debt_To_Income              0.000000\n",
       "Inquiries_Last_6Mo          0.000000\n",
       "Months_Since_Deliquency    53.788289\n",
       "Number_Open_Accounts        0.000000\n",
       "Total_Accounts              0.000000\n",
       "Gender                      0.000000\n",
       "Interest_Rate               0.000000\n",
       "dtype: float64"
      ]
     },
     "execution_count": 8,
     "metadata": {},
     "output_type": "execute_result"
    }
   ],
   "source": [
    "(train.isnull().sum()/train.shape[0])*100"
   ]
  },
  {
   "cell_type": "markdown",
   "metadata": {},
   "source": [
    "1. 6 Variables are of object data type.\n",
    "2. 3 Variables are of float type and 4 are of int type.\n",
    "3. 4 variables have missing values (Type_of_Cab,Customer_Since_Months,Life_Style_Index,Confidence_Life_Style_Index,Var1).\n",
    "4. No Datetime Variable here.\n",
    "5. Months_Since_Deliquency variable has more than 53% missing values, this can either be dropped from the dataset or values can be imputed accordingly.\n",
    "6. Home_Owner and Annual_Income have same number of missing values which might indicate that for a particular record both Home_Owner and Annual_Income are missing. "
   ]
  },
  {
   "cell_type": "code",
   "execution_count": 9,
   "metadata": {},
   "outputs": [],
   "source": [
    "# Creating Submission dataframe with just Loan_ID column.\n",
    "Submission=test[['Loan_ID']]\n",
    "test.drop(\"Loan_ID\",axis=1,inplace=True)"
   ]
  },
  {
   "cell_type": "code",
   "execution_count": 10,
   "metadata": {},
   "outputs": [],
   "source": [
    "## For Annual_Income we can replace with median \n",
    "\n",
    "train[\"Annual_Income\"].fillna(train[\"Annual_Income\"].median(),inplace=True)"
   ]
  },
  {
   "cell_type": "code",
   "execution_count": 11,
   "metadata": {},
   "outputs": [],
   "source": [
    "## For Annual_Income we can replace with median \n",
    "\n",
    "test[\"Annual_Income\"].fillna(test[\"Annual_Income\"].median(),inplace=True)"
   ]
  },
  {
   "cell_type": "code",
   "execution_count": 12,
   "metadata": {},
   "outputs": [],
   "source": [
    "## Lets replace Length_Employed with most frequent or mode value as it is a categorical feature\n",
    "\n",
    "train[\"Length_Employed\"].fillna(train[\"Length_Employed\"].value_counts().idxmax(),inplace=True)\n",
    "## Lets replace Home_Owner with most frequent or mode value as it is a categorical feature\n",
    "\n",
    "train[\"Home_Owner\"].fillna(train[\"Home_Owner\"].value_counts().idxmax(),inplace=True)"
   ]
  },
  {
   "cell_type": "code",
   "execution_count": 13,
   "metadata": {},
   "outputs": [],
   "source": [
    "## Lets replace Length_Employed with most frequent or mode value as it is a categorical feature\n",
    "\n",
    "test[\"Length_Employed\"].fillna(test[\"Length_Employed\"].value_counts().idxmax(),inplace=True)\n",
    "## Lets replace Home_Owner with most frequent or mode value as it is a categorical feature\n",
    "\n",
    "test[\"Home_Owner\"].fillna(test[\"Home_Owner\"].value_counts().idxmax(),inplace=True)"
   ]
  },
  {
   "cell_type": "code",
   "execution_count": 14,
   "metadata": {},
   "outputs": [
    {
     "data": {
      "text/plain": [
       "Loan_ID                     0.000000\n",
       "Loan_Amount_Requested       0.000000\n",
       "Length_Employed             0.000000\n",
       "Home_Owner                  0.000000\n",
       "Annual_Income               0.000000\n",
       "Income_Verified             0.000000\n",
       "Purpose_Of_Loan             0.000000\n",
       "Debt_To_Income              0.000000\n",
       "Inquiries_Last_6Mo          0.000000\n",
       "Months_Since_Deliquency    53.788289\n",
       "Number_Open_Accounts        0.000000\n",
       "Total_Accounts              0.000000\n",
       "Gender                      0.000000\n",
       "Interest_Rate               0.000000\n",
       "dtype: float64"
      ]
     },
     "execution_count": 14,
     "metadata": {},
     "output_type": "execute_result"
    }
   ],
   "source": [
    "(train.isnull().sum()/train.shape[0])*100"
   ]
  },
  {
   "cell_type": "code",
   "execution_count": 15,
   "metadata": {},
   "outputs": [
    {
     "data": {
      "text/plain": [
       "Loan_Amount_Requested       0.000000\n",
       "Length_Employed             0.000000\n",
       "Home_Owner                  0.000000\n",
       "Annual_Income               0.000000\n",
       "Income_Verified             0.000000\n",
       "Purpose_Of_Loan             0.000000\n",
       "Debt_To_Income              0.000000\n",
       "Inquiries_Last_6Mo          0.000000\n",
       "Months_Since_Deliquency    53.732392\n",
       "Number_Open_Accounts        0.000000\n",
       "Total_Accounts              0.000000\n",
       "Gender                      0.000000\n",
       "dtype: float64"
      ]
     },
     "execution_count": 15,
     "metadata": {},
     "output_type": "execute_result"
    }
   ],
   "source": [
    "(test.isnull().sum()/test.shape[0])*100"
   ]
  },
  {
   "cell_type": "markdown",
   "metadata": {},
   "source": [
    "## EDA"
   ]
  },
  {
   "cell_type": "markdown",
   "metadata": {},
   "source": [
    "### Dependent Variable"
   ]
  },
  {
   "cell_type": "code",
   "execution_count": 16,
   "metadata": {},
   "outputs": [
    {
     "data": {
      "text/plain": [
       "2    70580\n",
       "3    59923\n",
       "1    33806\n",
       "Name: Interest_Rate, dtype: int64"
      ]
     },
     "execution_count": 16,
     "metadata": {},
     "output_type": "execute_result"
    }
   ],
   "source": [
    "train['Interest_Rate'].value_counts(dropna=False)"
   ]
  },
  {
   "cell_type": "code",
   "execution_count": 17,
   "metadata": {},
   "outputs": [
    {
     "data": {
      "image/png": "[encoded data removed]",
      "text/plain": [
       "<Figure size 432x288 with 1 Axes>"
      ]
     },
     "metadata": {
      "needs_background": "light"
     },
     "output_type": "display_data"
    }
   ],
   "source": [
    "train['Interest_Rate'].value_counts(dropna=False).plot(kind='bar');\n",
    "plt.xticks(rotation=360);\n",
    "plt.xlabel(\"Interest_Rate\");\n",
    "plt.ylabel(\"Count\");\n",
    "plt.title(\"Distribution of Target Variable\");"
   ]
  },
  {
   "cell_type": "markdown",
   "metadata": {},
   "source": [
    "### Independent Variable"
   ]
  },
  {
   "cell_type": "markdown",
   "metadata": {},
   "source": [
    "#### Loan_Amount_Requested"
   ]
  },
  {
   "cell_type": "code",
   "execution_count": 18,
   "metadata": {},
   "outputs": [],
   "source": [
    "train.Loan_Amount_Requested=train.Loan_Amount_Requested.str.replace(',','')"
   ]
  },
  {
   "cell_type": "code",
   "execution_count": 19,
   "metadata": {},
   "outputs": [],
   "source": [
    "train.Loan_Amount_Requested=train.Loan_Amount_Requested.astype(int)"
   ]
  },
  {
   "cell_type": "code",
   "execution_count": 20,
   "metadata": {},
   "outputs": [
    {
     "data": {
      "text/plain": [
       "count    164309.00000\n",
       "mean      14349.33692\n",
       "std        8281.86870\n",
       "min         500.00000\n",
       "25%        8000.00000\n",
       "50%       12075.00000\n",
       "75%       20000.00000\n",
       "max       35000.00000\n",
       "Name: Loan_Amount_Requested, dtype: float64"
      ]
     },
     "execution_count": 20,
     "metadata": {},
     "output_type": "execute_result"
    }
   ],
   "source": [
    "train.Loan_Amount_Requested.describe()"
   ]
  },
  {
   "cell_type": "markdown",
   "metadata": {},
   "source": [
    "1. The Mean Loan_Amount_Requested is 44.2014349.33692 units.\n",
    "2. Minimum seems to be 500.00000 units which is too less and can be an anomaly.\n",
    "3. Maximum is 35000.00000 units. \n",
    "4. The median value is 12075 units."
   ]
  },
  {
   "cell_type": "code",
   "execution_count": 21,
   "metadata": {},
   "outputs": [],
   "source": [
    "test.Loan_Amount_Requested=test.Loan_Amount_Requested.str.replace(',','')"
   ]
  },
  {
   "cell_type": "code",
   "execution_count": 22,
   "metadata": {},
   "outputs": [],
   "source": [
    "test.Loan_Amount_Requested=test.Loan_Amount_Requested.astype(int)"
   ]
  },
  {
   "cell_type": "code",
   "execution_count": 23,
   "metadata": {},
   "outputs": [
    {
     "data": {
      "image/png": "[encoded data removed]",
      "text/plain": [
       "<Figure size 432x288 with 1 Axes>"
      ]
     },
     "metadata": {
      "needs_background": "light"
     },
     "output_type": "display_data"
    }
   ],
   "source": [
    "sns.distplot(train['Loan_Amount_Requested']);\n",
    "plt.title(\"Distribution of Target Variable\");\n",
    "plt.ylabel(\"Frequency\");\n",
    "# Doesn't look like a normal distribution. "
   ]
  },
  {
   "cell_type": "code",
   "execution_count": 24,
   "metadata": {},
   "outputs": [
    {
     "data": {
      "text/plain": [
       "(array([ 0,  1,  2,  3,  4,  5,  6,  7,  8,  9, 10, 11, 12, 13]),\n",
       " <a list of 14 Text xticklabel objects>)"
      ]
     },
     "execution_count": 24,
     "metadata": {},
     "output_type": "execute_result"
    },
    {
     "data": {
      "image/png": "[encoded data removed]",
      "text/plain": [
       "<Figure size 864x360 with 1 Axes>"
      ]
     },
     "metadata": {
      "needs_background": "light"
     },
     "output_type": "display_data"
    }
   ],
   "source": [
    "plt.figure(figsize=(12,5))\n",
    "sns.countplot(train.Purpose_Of_Loan)\n",
    "plt.xticks(rotation=-45)"
   ]
  },
  {
   "cell_type": "markdown",
   "metadata": {},
   "source": [
    "Most of the borrowers are seeking a loan for debt consolidation following  credit card payment."
   ]
  },
  {
   "cell_type": "code",
   "execution_count": 25,
   "metadata": {},
   "outputs": [
    {
     "data": {
      "text/plain": [
       "<matplotlib.axes._subplots.AxesSubplot at 0x3030fc308>"
      ]
     },
     "execution_count": 25,
     "metadata": {},
     "output_type": "execute_result"
    },
    {
     "data": {
      "image/png": "[encoded data removed]",
      "text/plain": [
       "<Figure size 432x288 with 1 Axes>"
      ]
     },
     "metadata": {
      "needs_background": "light"
     },
     "output_type": "display_data"
    }
   ],
   "source": [
    "train.groupby('Purpose_Of_Loan')['Loan_Amount_Requested'].mean().plot(kind='bar')"
   ]
  },
  {
   "cell_type": "code",
   "execution_count": 26,
   "metadata": {},
   "outputs": [
    {
     "data": {
      "text/plain": [
       "<matplotlib.axes._subplots.AxesSubplot at 0x300e0b148>"
      ]
     },
     "execution_count": 26,
     "metadata": {},
     "output_type": "execute_result"
    },
    {
     "data": {
      "image/png": "[encoded data removed]",
      "text/plain": [
       "<Figure size 432x288 with 1 Axes>"
      ]
     },
     "metadata": {
      "needs_background": "light"
     },
     "output_type": "display_data"
    }
   ],
   "source": [
    "train.groupby('Purpose_Of_Loan')['Loan_Amount_Requested'].mean().sort_values().plot(kind='bar')"
   ]
  },
  {
   "cell_type": "code",
   "execution_count": 27,
   "metadata": {},
   "outputs": [
    {
     "data": {
      "text/plain": [
       "Purpose_Of_Loan\n",
       "vacation               6300.627240\n",
       "educational            7110.123967\n",
       "moving                 7668.814168\n",
       "car                    8053.806366\n",
       "medical                8913.854640\n",
       "other                  9635.493051\n",
       "wedding               10239.402174\n",
       "major_purchase        10394.657933\n",
       "renewable_energy      10958.130081\n",
       "home_improvement      13867.466825\n",
       "credit_card           14754.313870\n",
       "house                 15042.205692\n",
       "debt_consolidation    15148.553568\n",
       "small_business        15427.456104\n",
       "Name: Loan_Amount_Requested, dtype: float64"
      ]
     },
     "execution_count": 27,
     "metadata": {},
     "output_type": "execute_result"
    }
   ],
   "source": [
    "train.groupby('Purpose_Of_Loan')['Loan_Amount_Requested'].mean().sort_values()"
   ]
  },
  {
   "cell_type": "markdown",
   "metadata": {},
   "source": [
    "The average amount requested for loan is highest for Small business, followed by debt_consolidation and home."
   ]
  },
  {
   "cell_type": "code",
   "execution_count": 28,
   "metadata": {},
   "outputs": [
    {
     "data": {
      "text/plain": [
       "<matplotlib.axes._subplots.AxesSubplot at 0x301cba288>"
      ]
     },
     "execution_count": 28,
     "metadata": {},
     "output_type": "execute_result"
    },
    {
     "data": {
      "image/png": "[encoded data removed]",
      "text/plain": [
       "<Figure size 432x288 with 1 Axes>"
      ]
     },
     "metadata": {
      "needs_background": "light"
     },
     "output_type": "display_data"
    }
   ],
   "source": [
    "sns.countplot(train.Gender)"
   ]
  },
  {
   "cell_type": "markdown",
   "metadata": {},
   "source": [
    "Most of the Male applicants have applied for a loan."
   ]
  },
  {
   "cell_type": "code",
   "execution_count": 29,
   "metadata": {},
   "outputs": [
    {
     "data": {
      "text/plain": [
       "<matplotlib.axes._subplots.AxesSubplot at 0x301d14788>"
      ]
     },
     "execution_count": 29,
     "metadata": {},
     "output_type": "execute_result"
    },
    {
     "data": {
      "image/png": "[encoded data removed]",
      "text/plain": [
       "<Figure size 432x288 with 1 Axes>"
      ]
     },
     "metadata": {
      "needs_background": "light"
     },
     "output_type": "display_data"
    }
   ],
   "source": [
    "sns.countplot(train.Home_Owner)"
   ]
  },
  {
   "cell_type": "markdown",
   "metadata": {},
   "source": [
    "Most of the applicants have either Mortgaged their house or are staying in a rented house."
   ]
  },
  {
   "cell_type": "code",
   "execution_count": 30,
   "metadata": {},
   "outputs": [
    {
     "data": {
      "image/png": "[encoded data removed]",
      "text/plain": [
       "<Figure size 504x288 with 1 Axes>"
      ]
     },
     "metadata": {
      "needs_background": "light"
     },
     "output_type": "display_data"
    }
   ],
   "source": [
    "plt.figure(figsize=(7,4))\n",
    "sns.countplot(train.Income_Verified)\n",
    "plt.title(\"Distribution of Income_Verified Variable\");\n",
    "plt.ylabel(\"number of applicants\");\n",
    "# Doesn't look like a normal distribution. "
   ]
  },
  {
   "cell_type": "code",
   "execution_count": 31,
   "metadata": {},
   "outputs": [
    {
     "data": {
      "text/plain": [
       "<matplotlib.axes._subplots.AxesSubplot at 0x301d129c8>"
      ]
     },
     "execution_count": 31,
     "metadata": {},
     "output_type": "execute_result"
    },
    {
     "data": {
      "image/png": "[encoded data removed]",
      "text/plain": [
       "<Figure size 432x288 with 1 Axes>"
      ]
     },
     "metadata": {
      "needs_background": "light"
     },
     "output_type": "display_data"
    }
   ],
   "source": [
    "train.groupby('Purpose_Of_Loan')['Number_Open_Accounts'].mean().plot(kind='bar')"
   ]
  },
  {
   "cell_type": "markdown",
   "metadata": {},
   "source": [
    "Applicants who have credit cards and debts, have the highest number of open accounts on an average."
   ]
  },
  {
   "cell_type": "code",
   "execution_count": 32,
   "metadata": {},
   "outputs": [
    {
     "data": {
      "text/plain": [
       "(array([ 0,  1,  2,  3,  4,  5,  6,  7,  8,  9, 10, 11, 12, 13]),\n",
       " <a list of 14 Text xticklabel objects>)"
      ]
     },
     "execution_count": 32,
     "metadata": {},
     "output_type": "execute_result"
    },
    {
     "data": {
      "image/png": "[encoded data removed]",
      "text/plain": [
       "<Figure size 1080x432 with 1 Axes>"
      ]
     },
     "metadata": {
      "needs_background": "light"
     },
     "output_type": "display_data"
    }
   ],
   "source": [
    "plt.figure(figsize=(15,6))\n",
    "sns.countplot(x=train.Purpose_Of_Loan,hue=train.Interest_Rate)\n",
    "plt.title(\"Distribution of Interest_rates Variable by Purpose_Of_Loan\")\n",
    "plt.xticks(rotation=-45)"
   ]
  },
  {
   "cell_type": "code",
   "execution_count": 33,
   "metadata": {},
   "outputs": [
    {
     "data": {
      "text/plain": [
       "(array([0, 1, 2]), <a list of 3 Text xticklabel objects>)"
      ]
     },
     "execution_count": 33,
     "metadata": {},
     "output_type": "execute_result"
    },
    {
     "data": {
      "image/png": "[encoded data removed]",
      "text/plain": [
       "<Figure size 1080x432 with 1 Axes>"
      ]
     },
     "metadata": {
      "needs_background": "light"
     },
     "output_type": "display_data"
    }
   ],
   "source": [
    "plt.figure(figsize=(15,6))\n",
    "sns.countplot(x=train.Interest_Rate,hue=train.Purpose_Of_Loan)\n",
    "plt.title(\"Distribution of Interest_rates Variable by Purpose_Of_Loan\")\n",
    "plt.xticks(rotation=-45)"
   ]
  },
  {
   "cell_type": "markdown",
   "metadata": {},
   "source": [
    "All the Interest rates are higher for debt_consolidation and credit card."
   ]
  },
  {
   "cell_type": "code",
   "execution_count": 34,
   "metadata": {},
   "outputs": [
    {
     "data": {
      "text/plain": [
       "(array([0, 1, 2, 3, 4]), <a list of 5 Text xticklabel objects>)"
      ]
     },
     "execution_count": 34,
     "metadata": {},
     "output_type": "execute_result"
    },
    {
     "data": {
      "image/png": "[encoded data removed]",
      "text/plain": [
       "<Figure size 1080x432 with 1 Axes>"
      ]
     },
     "metadata": {
      "needs_background": "light"
     },
     "output_type": "display_data"
    }
   ],
   "source": [
    "plt.figure(figsize=(15,6))\n",
    "sns.countplot(x=train.Home_Owner,hue=train.Interest_Rate)\n",
    "plt.title(\"Distribution of Interest_rates Variable by Purpose_Of_Loan\")\n",
    "plt.xticks(rotation=-45)"
   ]
  },
  {
   "cell_type": "code",
   "execution_count": 35,
   "metadata": {},
   "outputs": [
    {
     "data": {
      "text/plain": [
       "(array([0, 1, 2]), <a list of 3 Text xticklabel objects>)"
      ]
     },
     "execution_count": 35,
     "metadata": {},
     "output_type": "execute_result"
    },
    {
     "data": {
      "image/png": "[encoded data removed]",
      "text/plain": [
       "<Figure size 1080x432 with 1 Axes>"
      ]
     },
     "metadata": {
      "needs_background": "light"
     },
     "output_type": "display_data"
    }
   ],
   "source": [
    "plt.figure(figsize=(15,6))\n",
    "sns.countplot(x=train.Interest_Rate,hue=train.Home_Owner)\n",
    "plt.title(\"Distribution of Interest_rates Variable by Purpose_Of_Loan\")\n",
    "plt.xticks(rotation=-45)"
   ]
  },
  {
   "cell_type": "markdown",
   "metadata": {},
   "source": [
    "Interest rate 2 and 3 is highest for rent and Mortgage."
   ]
  },
  {
   "cell_type": "code",
   "execution_count": 36,
   "metadata": {},
   "outputs": [
    {
     "name": "stdout",
     "output_type": "stream",
     "text": [
      "Continuous feature Count 7\n"
     ]
    },
    {
     "data": {
      "text/plain": [
       "['Loan_ID',\n",
       " 'Loan_Amount_Requested',\n",
       " 'Annual_Income',\n",
       " 'Debt_To_Income',\n",
       " 'Months_Since_Deliquency',\n",
       " 'Number_Open_Accounts',\n",
       " 'Total_Accounts']"
      ]
     },
     "execution_count": 36,
     "metadata": {},
     "output_type": "execute_result"
    }
   ],
   "source": [
    "numerical_features=train.select_dtypes(include='number')\n",
    "discrete_feature=[feature for feature in numerical_features if len(train[feature].unique())<25 \n",
    "                  and feature not in [\"Id\"]]\n",
    "continuous_feature=[feature for feature in numerical_features if feature not in discrete_feature+['Id']]\n",
    "print(\"Continuous feature Count {}\".format(len(continuous_feature)))\n",
    "continuous_feature"
   ]
  },
  {
   "cell_type": "code",
   "execution_count": 37,
   "metadata": {},
   "outputs": [
    {
     "data": {
      "image/png": "[encoded data removed]",
      "text/plain": [
       "<Figure size 432x288 with 1 Axes>"
      ]
     },
     "metadata": {
      "needs_background": "light"
     },
     "output_type": "display_data"
    },
    {
     "data": {
      "image/png": "[encoded data removed]",
      "text/plain": [
       "<Figure size 432x288 with 1 Axes>"
      ]
     },
     "metadata": {
      "needs_background": "light"
     },
     "output_type": "display_data"
    },
    {
     "data": {
      "image/png": "[encoded data removed]",
      "text/plain": [
       "<Figure size 432x288 with 1 Axes>"
      ]
     },
     "metadata": {
      "needs_background": "light"
     },
     "output_type": "display_data"
    },
    {
     "data": {
      "image/png": "[encoded data removed]",
      "text/plain": [
       "<Figure size 432x288 with 1 Axes>"
      ]
     },
     "metadata": {
      "needs_background": "light"
     },
     "output_type": "display_data"
    },
    {
     "data": {
      "image/png": "[encoded data removed]",
      "text/plain": [
       "<Figure size 432x288 with 1 Axes>"
      ]
     },
     "metadata": {
      "needs_background": "light"
     },
     "output_type": "display_data"
    },
    {
     "data": {
      "image/png": "[encoded data removed]",
      "text/plain": [
       "<Figure size 432x288 with 1 Axes>"
      ]
     },
     "metadata": {
      "needs_background": "light"
     },
     "output_type": "display_data"
    },
    {
     "data": {
      "image/png": "[encoded data removed]",
      "text/plain": [
       "<Figure size 432x288 with 1 Axes>"
      ]
     },
     "metadata": {
      "needs_background": "light"
     },
     "output_type": "display_data"
    }
   ],
   "source": [
    "## Lets analyse the continuous values by creating histograms to understand the distribution\n",
    "\n",
    "for feature in continuous_feature:\n",
    "    data=train.copy()\n",
    "    data[feature].hist(bins=25)\n",
    "    plt.xlabel(feature)\n",
    "    plt.ylabel(\"Count\")\n",
    "    plt.title(feature)\n",
    "    plt.show()"
   ]
  },
  {
   "cell_type": "code",
   "execution_count": 38,
   "metadata": {},
   "outputs": [
    {
     "data": {
      "text/plain": [
       "63000.0     25874\n",
       "60000.0      5462\n",
       "50000.0      4783\n",
       "65000.0      4012\n",
       "40000.0      3856\n",
       "70000.0      3667\n",
       "45000.0      3614\n",
       "75000.0      3434\n",
       "80000.0      3429\n",
       "55000.0      3320\n",
       "90000.0      2637\n",
       "100000.0     2618\n",
       "85000.0      2377\n",
       "35000.0      2350\n",
       "30000.0      2248\n",
       "120000.0     1981\n",
       "42000.0      1905\n",
       "52000.0      1861\n",
       "48000.0      1786\n",
       "110000.0     1581\n",
       "Name: Annual_Income, dtype: int64"
      ]
     },
     "execution_count": 38,
     "metadata": {},
     "output_type": "execute_result"
    }
   ],
   "source": [
    "train.Annual_Income.value_counts().head(20)"
   ]
  },
  {
   "cell_type": "code",
   "execution_count": 39,
   "metadata": {},
   "outputs": [
    {
     "data": {
      "text/plain": [
       "<matplotlib.axes._subplots.AxesSubplot at 0x300134b88>"
      ]
     },
     "execution_count": 39,
     "metadata": {},
     "output_type": "execute_result"
    },
    {
     "data": {
      "image/png": "[encoded data removed]",
      "text/plain": [
       "<Figure size 1080x360 with 1 Axes>"
      ]
     },
     "metadata": {
      "needs_background": "light"
     },
     "output_type": "display_data"
    }
   ],
   "source": [
    "plt.figure(figsize=(15,5))\n",
    "sns.distplot(train.Annual_Income)"
   ]
  },
  {
   "cell_type": "markdown",
   "metadata": {},
   "source": [
    "Most of the applicants have annual income less than 100000."
   ]
  },
  {
   "cell_type": "markdown",
   "metadata": {},
   "source": [
    "#### Treating missing value Months_Since_Deliquency"
   ]
  },
  {
   "cell_type": "code",
   "execution_count": 40,
   "metadata": {},
   "outputs": [],
   "source": [
    "### We can replace the NAN values in Months_Since_Deliquency with respect to Home_Owner\n",
    "\n",
    "def impute_Months_Since_Deliquency(cols):\n",
    "    Months_Since_Deliquency=cols[0]\n",
    "    Home_Owner=cols[1]\n",
    "    if pd.isnull(Months_Since_Deliquency):\n",
    "        if Home_Owner==\"Rent\":\n",
    "            return 35\n",
    "        elif Home_Owner==\"Mortgage\":\n",
    "            return 30\n",
    "        elif Home_Owner==\"Own\":\n",
    "            return 35\n",
    "        elif Home_Owner==\"Other\":\n",
    "            return 45\n",
    "        else:\n",
    "            return 20\n",
    "    else:\n",
    "        return Months_Since_Deliquency"
   ]
  },
  {
   "cell_type": "code",
   "execution_count": 41,
   "metadata": {},
   "outputs": [],
   "source": [
    "# Now applying the function in data\n",
    "\n",
    "train[\"Months_Since_Deliquency\"]=train[[\"Months_Since_Deliquency\",\"Home_Owner\"]].apply(impute_Months_Since_Deliquency,axis=1)"
   ]
  },
  {
   "cell_type": "code",
   "execution_count": 42,
   "metadata": {},
   "outputs": [],
   "source": [
    "# Now applying the function in data\n",
    "\n",
    "test[\"Months_Since_Deliquency\"]=test[[\"Months_Since_Deliquency\",\"Home_Owner\"]].apply(impute_Months_Since_Deliquency,axis=1)"
   ]
  },
  {
   "cell_type": "code",
   "execution_count": 43,
   "metadata": {},
   "outputs": [
    {
     "data": {
      "text/plain": [
       "Loan_ID                    0.0\n",
       "Loan_Amount_Requested      0.0\n",
       "Length_Employed            0.0\n",
       "Home_Owner                 0.0\n",
       "Annual_Income              0.0\n",
       "Income_Verified            0.0\n",
       "Purpose_Of_Loan            0.0\n",
       "Debt_To_Income             0.0\n",
       "Inquiries_Last_6Mo         0.0\n",
       "Months_Since_Deliquency    0.0\n",
       "Number_Open_Accounts       0.0\n",
       "Total_Accounts             0.0\n",
       "Gender                     0.0\n",
       "Interest_Rate              0.0\n",
       "dtype: float64"
      ]
     },
     "execution_count": 43,
     "metadata": {},
     "output_type": "execute_result"
    }
   ],
   "source": [
    "(train.isnull().sum()/train.shape[0])*100"
   ]
  },
  {
   "cell_type": "code",
   "execution_count": 44,
   "metadata": {},
   "outputs": [
    {
     "data": {
      "text/plain": [
       "Loan_Amount_Requested      0.0\n",
       "Length_Employed            0.0\n",
       "Home_Owner                 0.0\n",
       "Annual_Income              0.0\n",
       "Income_Verified            0.0\n",
       "Purpose_Of_Loan            0.0\n",
       "Debt_To_Income             0.0\n",
       "Inquiries_Last_6Mo         0.0\n",
       "Months_Since_Deliquency    0.0\n",
       "Number_Open_Accounts       0.0\n",
       "Total_Accounts             0.0\n",
       "Gender                     0.0\n",
       "dtype: float64"
      ]
     },
     "execution_count": 44,
     "metadata": {},
     "output_type": "execute_result"
    }
   ],
   "source": [
    "(test.isnull().sum()/test.shape[0])*100"
   ]
  },
  {
   "cell_type": "markdown",
   "metadata": {},
   "source": [
    "No missing values."
   ]
  },
  {
   "cell_type": "markdown",
   "metadata": {},
   "source": [
    "## Treating outliers"
   ]
  },
  {
   "cell_type": "code",
   "execution_count": 45,
   "metadata": {},
   "outputs": [
    {
     "data": {
      "text/plain": [
       "<matplotlib.axes._subplots.AxesSubplot at 0x306091908>"
      ]
     },
     "execution_count": 45,
     "metadata": {},
     "output_type": "execute_result"
    },
    {
     "data": {
      "image/png": "[encoded data removed]",
      "text/plain": [
       "<Figure size 1440x720 with 1 Axes>"
      ]
     },
     "metadata": {
      "needs_background": "light"
     },
     "output_type": "display_data"
    }
   ],
   "source": [
    "plt.figure(figsize=(20,10))\n",
    "sns.boxplot(data=train.drop('Loan_ID',axis=1))"
   ]
  },
  {
   "cell_type": "code",
   "execution_count": 46,
   "metadata": {},
   "outputs": [
    {
     "data": {
      "text/html": [
       "<div>\n",
       "<style scoped>\n",
       "    .dataframe tbody tr th:only-of-type {\n",
       "        vertical-align: middle;\n",
       "    }\n",
       "\n",
       "    .dataframe tbody tr th {\n",
       "        vertical-align: top;\n",
       "    }\n",
       "\n",
       "    .dataframe thead th {\n",
       "        text-align: right;\n",
       "    }\n",
       "</style>\n",
       "<table border=\"1\" class=\"dataframe\">\n",
       "  <thead>\n",
       "    <tr style=\"text-align: right;\">\n",
       "      <th></th>\n",
       "      <th>Loan_ID</th>\n",
       "      <th>Loan_Amount_Requested</th>\n",
       "      <th>Annual_Income</th>\n",
       "      <th>Debt_To_Income</th>\n",
       "      <th>Inquiries_Last_6Mo</th>\n",
       "      <th>Months_Since_Deliquency</th>\n",
       "      <th>Number_Open_Accounts</th>\n",
       "      <th>Total_Accounts</th>\n",
       "      <th>Interest_Rate</th>\n",
       "    </tr>\n",
       "  </thead>\n",
       "  <tbody>\n",
       "    <tr>\n",
       "      <td>count</td>\n",
       "      <td>1.643090e+05</td>\n",
       "      <td>164309.00000</td>\n",
       "      <td>1.643090e+05</td>\n",
       "      <td>164309.000000</td>\n",
       "      <td>164309.000000</td>\n",
       "      <td>164309.000000</td>\n",
       "      <td>164309.000000</td>\n",
       "      <td>164309.000000</td>\n",
       "      <td>164309.000000</td>\n",
       "    </tr>\n",
       "    <tr>\n",
       "      <td>mean</td>\n",
       "      <td>1.008216e+07</td>\n",
       "      <td>14349.33692</td>\n",
       "      <td>7.175284e+04</td>\n",
       "      <td>17.207189</td>\n",
       "      <td>0.781698</td>\n",
       "      <td>33.137564</td>\n",
       "      <td>11.193818</td>\n",
       "      <td>25.067665</td>\n",
       "      <td>2.158951</td>\n",
       "    </tr>\n",
       "    <tr>\n",
       "      <td>std</td>\n",
       "      <td>4.743207e+04</td>\n",
       "      <td>8281.86870</td>\n",
       "      <td>5.569855e+04</td>\n",
       "      <td>7.845083</td>\n",
       "      <td>1.034747</td>\n",
       "      <td>14.939882</td>\n",
       "      <td>4.991813</td>\n",
       "      <td>11.583067</td>\n",
       "      <td>0.738364</td>\n",
       "    </tr>\n",
       "    <tr>\n",
       "      <td>min</td>\n",
       "      <td>1.000000e+07</td>\n",
       "      <td>500.00000</td>\n",
       "      <td>4.000000e+03</td>\n",
       "      <td>0.000000</td>\n",
       "      <td>0.000000</td>\n",
       "      <td>0.000000</td>\n",
       "      <td>0.000000</td>\n",
       "      <td>2.000000</td>\n",
       "      <td>1.000000</td>\n",
       "    </tr>\n",
       "    <tr>\n",
       "      <td>25%</td>\n",
       "      <td>1.004108e+07</td>\n",
       "      <td>8000.00000</td>\n",
       "      <td>4.860000e+04</td>\n",
       "      <td>11.370000</td>\n",
       "      <td>0.000000</td>\n",
       "      <td>30.000000</td>\n",
       "      <td>8.000000</td>\n",
       "      <td>17.000000</td>\n",
       "      <td>2.000000</td>\n",
       "    </tr>\n",
       "    <tr>\n",
       "      <td>50%</td>\n",
       "      <td>1.008216e+07</td>\n",
       "      <td>12075.00000</td>\n",
       "      <td>6.300000e+04</td>\n",
       "      <td>16.840000</td>\n",
       "      <td>0.000000</td>\n",
       "      <td>30.000000</td>\n",
       "      <td>10.000000</td>\n",
       "      <td>23.000000</td>\n",
       "      <td>2.000000</td>\n",
       "    </tr>\n",
       "    <tr>\n",
       "      <td>75%</td>\n",
       "      <td>1.012323e+07</td>\n",
       "      <td>20000.00000</td>\n",
       "      <td>8.200000e+04</td>\n",
       "      <td>22.780000</td>\n",
       "      <td>1.000000</td>\n",
       "      <td>35.000000</td>\n",
       "      <td>14.000000</td>\n",
       "      <td>32.000000</td>\n",
       "      <td>3.000000</td>\n",
       "    </tr>\n",
       "    <tr>\n",
       "      <td>max</td>\n",
       "      <td>1.016431e+07</td>\n",
       "      <td>35000.00000</td>\n",
       "      <td>7.500000e+06</td>\n",
       "      <td>39.990000</td>\n",
       "      <td>8.000000</td>\n",
       "      <td>180.000000</td>\n",
       "      <td>76.000000</td>\n",
       "      <td>156.000000</td>\n",
       "      <td>3.000000</td>\n",
       "    </tr>\n",
       "  </tbody>\n",
       "</table>\n",
       "</div>"
      ],
      "text/plain": [
       "            Loan_ID  Loan_Amount_Requested  Annual_Income  Debt_To_Income  \\\n",
       "count  1.643090e+05           164309.00000   1.643090e+05   164309.000000   \n",
       "mean   1.008216e+07            14349.33692   7.175284e+04       17.207189   \n",
       "std    4.743207e+04             8281.86870   5.569855e+04        7.845083   \n",
       "min    1.000000e+07              500.00000   4.000000e+03        0.000000   \n",
       "25%    1.004108e+07             8000.00000   4.860000e+04       11.370000   \n",
       "50%    1.008216e+07            12075.00000   6.300000e+04       16.840000   \n",
       "75%    1.012323e+07            20000.00000   8.200000e+04       22.780000   \n",
       "max    1.016431e+07            35000.00000   7.500000e+06       39.990000   \n",
       "\n",
       "       Inquiries_Last_6Mo  Months_Since_Deliquency  Number_Open_Accounts  \\\n",
       "count       164309.000000            164309.000000         164309.000000   \n",
       "mean             0.781698                33.137564             11.193818   \n",
       "std              1.034747                14.939882              4.991813   \n",
       "min              0.000000                 0.000000              0.000000   \n",
       "25%              0.000000                30.000000              8.000000   \n",
       "50%              0.000000                30.000000             10.000000   \n",
       "75%              1.000000                35.000000             14.000000   \n",
       "max              8.000000               180.000000             76.000000   \n",
       "\n",
       "       Total_Accounts  Interest_Rate  \n",
       "count   164309.000000  164309.000000  \n",
       "mean        25.067665       2.158951  \n",
       "std         11.583067       0.738364  \n",
       "min          2.000000       1.000000  \n",
       "25%         17.000000       2.000000  \n",
       "50%         23.000000       2.000000  \n",
       "75%         32.000000       3.000000  \n",
       "max        156.000000       3.000000  "
      ]
     },
     "execution_count": 46,
     "metadata": {},
     "output_type": "execute_result"
    }
   ],
   "source": [
    "x=train.describe()\n",
    "x"
   ]
  },
  {
   "cell_type": "code",
   "execution_count": 47,
   "metadata": {},
   "outputs": [],
   "source": [
    "for i in numerical_features:\n",
    "    q1=x.loc['25%',i]\n",
    "    q3=x.loc['75%',i]\n",
    "    iqr=q3-q1\n",
    "    uppl=q3+(1.5*iqr)\n",
    "    lowl=q1-(1.5*iqr)\n",
    "    train[i]=train[i].apply(lambda x:uppl if x>uppl else x )\n",
    "    train[i]=train[i].apply(lambda x: lowl if x<lowl else x)"
   ]
  },
  {
   "cell_type": "code",
   "execution_count": 48,
   "metadata": {},
   "outputs": [
    {
     "data": {
      "image/png": "[encoded data removed]",
      "text/plain": [
       "<Figure size 432x288 with 1 Axes>"
      ]
     },
     "metadata": {
      "needs_background": "light"
     },
     "output_type": "display_data"
    },
    {
     "data": {
      "image/png": "[encoded data removed]",
      "text/plain": [
       "<Figure size 432x288 with 1 Axes>"
      ]
     },
     "metadata": {
      "needs_background": "light"
     },
     "output_type": "display_data"
    },
    {
     "data": {
      "image/png": "[encoded data removed]",
      "text/plain": [
       "<Figure size 432x288 with 1 Axes>"
      ]
     },
     "metadata": {
      "needs_background": "light"
     },
     "output_type": "display_data"
    },
    {
     "data": {
      "image/png": "[encoded data removed]",
      "text/plain": [
       "<Figure size 432x288 with 1 Axes>"
      ]
     },
     "metadata": {
      "needs_background": "light"
     },
     "output_type": "display_data"
    },
    {
     "data": {
      "image/png": "[encoded data removed]",
      "text/plain": [
       "<Figure size 432x288 with 1 Axes>"
      ]
     },
     "metadata": {
      "needs_background": "light"
     },
     "output_type": "display_data"
    },
    {
     "data": {
      "image/png": "[encoded data removed]",
      "text/plain": [
       "<Figure size 432x288 with 1 Axes>"
      ]
     },
     "metadata": {
      "needs_background": "light"
     },
     "output_type": "display_data"
    },
    {
     "data": {
      "image/png": "[encoded data removed]",
      "text/plain": [
       "<Figure size 432x288 with 1 Axes>"
      ]
     },
     "metadata": {
      "needs_background": "light"
     },
     "output_type": "display_data"
    },
    {
     "data": {
      "image/png": "[encoded data removed]",
      "text/plain": [
       "<Figure size 432x288 with 1 Axes>"
      ]
     },
     "metadata": {
      "needs_background": "light"
     },
     "output_type": "display_data"
    },
    {
     "data": {
      "image/png": "[encoded data removed]",
      "text/plain": [
       "<Figure size 432x288 with 1 Axes>"
      ]
     },
     "metadata": {
      "needs_background": "light"
     },
     "output_type": "display_data"
    }
   ],
   "source": [
    "for i in numerical_features:\n",
    "    sns.boxplot(train[i])\n",
    "    plt.show()"
   ]
  },
  {
   "cell_type": "code",
   "execution_count": 49,
   "metadata": {},
   "outputs": [
    {
     "data": {
      "text/plain": [
       "Index(['Length_Employed', 'Home_Owner', 'Income_Verified', 'Purpose_Of_Loan',\n",
       "       'Gender'],\n",
       "      dtype='object')"
      ]
     },
     "execution_count": 49,
     "metadata": {},
     "output_type": "execute_result"
    }
   ],
   "source": [
    "train.select_dtypes(include='object').columns"
   ]
  },
  {
   "cell_type": "code",
   "execution_count": 50,
   "metadata": {},
   "outputs": [
    {
     "data": {
      "text/html": [
       "<div>\n",
       "<style scoped>\n",
       "    .dataframe tbody tr th:only-of-type {\n",
       "        vertical-align: middle;\n",
       "    }\n",
       "\n",
       "    .dataframe tbody tr th {\n",
       "        vertical-align: top;\n",
       "    }\n",
       "\n",
       "    .dataframe thead th {\n",
       "        text-align: right;\n",
       "    }\n",
       "</style>\n",
       "<table border=\"1\" class=\"dataframe\">\n",
       "  <thead>\n",
       "    <tr style=\"text-align: right;\">\n",
       "      <th></th>\n",
       "      <th>Loan_ID</th>\n",
       "      <th>Loan_Amount_Requested</th>\n",
       "      <th>Annual_Income</th>\n",
       "      <th>Debt_To_Income</th>\n",
       "      <th>Inquiries_Last_6Mo</th>\n",
       "      <th>Months_Since_Deliquency</th>\n",
       "      <th>Number_Open_Accounts</th>\n",
       "      <th>Total_Accounts</th>\n",
       "      <th>Interest_Rate</th>\n",
       "      <th>Length_Employed_10+ years</th>\n",
       "      <th>Length_Employed_2 years</th>\n",
       "      <th>Length_Employed_3 years</th>\n",
       "      <th>Length_Employed_4 years</th>\n",
       "      <th>Length_Employed_5 years</th>\n",
       "      <th>Length_Employed_6 years</th>\n",
       "      <th>Length_Employed_7 years</th>\n",
       "      <th>Length_Employed_8 years</th>\n",
       "      <th>Length_Employed_9 years</th>\n",
       "      <th>Length_Employed_&lt; 1 year</th>\n",
       "      <th>Home_Owner_None</th>\n",
       "      <th>Home_Owner_Other</th>\n",
       "      <th>Home_Owner_Own</th>\n",
       "      <th>Home_Owner_Rent</th>\n",
       "      <th>Income_Verified_VERIFIED - income source</th>\n",
       "      <th>Income_Verified_not verified</th>\n",
       "      <th>Purpose_Of_Loan_credit_card</th>\n",
       "      <th>Purpose_Of_Loan_debt_consolidation</th>\n",
       "      <th>Purpose_Of_Loan_educational</th>\n",
       "      <th>Purpose_Of_Loan_home_improvement</th>\n",
       "      <th>Purpose_Of_Loan_house</th>\n",
       "      <th>Purpose_Of_Loan_major_purchase</th>\n",
       "      <th>Purpose_Of_Loan_medical</th>\n",
       "      <th>Purpose_Of_Loan_moving</th>\n",
       "      <th>Purpose_Of_Loan_other</th>\n",
       "      <th>Purpose_Of_Loan_renewable_energy</th>\n",
       "      <th>Purpose_Of_Loan_small_business</th>\n",
       "      <th>Purpose_Of_Loan_vacation</th>\n",
       "      <th>Purpose_Of_Loan_wedding</th>\n",
       "      <th>Gender_Male</th>\n",
       "    </tr>\n",
       "  </thead>\n",
       "  <tbody>\n",
       "    <tr>\n",
       "      <td>0</td>\n",
       "      <td>10000001</td>\n",
       "      <td>7000</td>\n",
       "      <td>68000.0</td>\n",
       "      <td>18.37</td>\n",
       "      <td>0.0</td>\n",
       "      <td>35.0</td>\n",
       "      <td>9.0</td>\n",
       "      <td>14.0</td>\n",
       "      <td>1</td>\n",
       "      <td>0</td>\n",
       "      <td>0</td>\n",
       "      <td>0</td>\n",
       "      <td>0</td>\n",
       "      <td>0</td>\n",
       "      <td>0</td>\n",
       "      <td>0</td>\n",
       "      <td>0</td>\n",
       "      <td>0</td>\n",
       "      <td>1</td>\n",
       "      <td>0</td>\n",
       "      <td>0</td>\n",
       "      <td>0</td>\n",
       "      <td>1</td>\n",
       "      <td>0</td>\n",
       "      <td>1</td>\n",
       "      <td>0</td>\n",
       "      <td>0</td>\n",
       "      <td>0</td>\n",
       "      <td>0</td>\n",
       "      <td>0</td>\n",
       "      <td>0</td>\n",
       "      <td>0</td>\n",
       "      <td>0</td>\n",
       "      <td>0</td>\n",
       "      <td>0</td>\n",
       "      <td>0</td>\n",
       "      <td>0</td>\n",
       "      <td>0</td>\n",
       "      <td>0</td>\n",
       "    </tr>\n",
       "    <tr>\n",
       "      <td>1</td>\n",
       "      <td>10000002</td>\n",
       "      <td>30000</td>\n",
       "      <td>63000.0</td>\n",
       "      <td>14.93</td>\n",
       "      <td>0.0</td>\n",
       "      <td>22.5</td>\n",
       "      <td>12.0</td>\n",
       "      <td>24.0</td>\n",
       "      <td>3</td>\n",
       "      <td>0</td>\n",
       "      <td>0</td>\n",
       "      <td>0</td>\n",
       "      <td>1</td>\n",
       "      <td>0</td>\n",
       "      <td>0</td>\n",
       "      <td>0</td>\n",
       "      <td>0</td>\n",
       "      <td>0</td>\n",
       "      <td>0</td>\n",
       "      <td>0</td>\n",
       "      <td>0</td>\n",
       "      <td>0</td>\n",
       "      <td>0</td>\n",
       "      <td>0</td>\n",
       "      <td>0</td>\n",
       "      <td>0</td>\n",
       "      <td>1</td>\n",
       "      <td>0</td>\n",
       "      <td>0</td>\n",
       "      <td>0</td>\n",
       "      <td>0</td>\n",
       "      <td>0</td>\n",
       "      <td>0</td>\n",
       "      <td>0</td>\n",
       "      <td>0</td>\n",
       "      <td>0</td>\n",
       "      <td>0</td>\n",
       "      <td>0</td>\n",
       "      <td>0</td>\n",
       "    </tr>\n",
       "    <tr>\n",
       "      <td>2</td>\n",
       "      <td>10000003</td>\n",
       "      <td>24725</td>\n",
       "      <td>75566.4</td>\n",
       "      <td>15.88</td>\n",
       "      <td>0.0</td>\n",
       "      <td>30.0</td>\n",
       "      <td>12.0</td>\n",
       "      <td>16.0</td>\n",
       "      <td>3</td>\n",
       "      <td>0</td>\n",
       "      <td>0</td>\n",
       "      <td>0</td>\n",
       "      <td>0</td>\n",
       "      <td>0</td>\n",
       "      <td>0</td>\n",
       "      <td>1</td>\n",
       "      <td>0</td>\n",
       "      <td>0</td>\n",
       "      <td>0</td>\n",
       "      <td>0</td>\n",
       "      <td>0</td>\n",
       "      <td>0</td>\n",
       "      <td>0</td>\n",
       "      <td>1</td>\n",
       "      <td>0</td>\n",
       "      <td>0</td>\n",
       "      <td>1</td>\n",
       "      <td>0</td>\n",
       "      <td>0</td>\n",
       "      <td>0</td>\n",
       "      <td>0</td>\n",
       "      <td>0</td>\n",
       "      <td>0</td>\n",
       "      <td>0</td>\n",
       "      <td>0</td>\n",
       "      <td>0</td>\n",
       "      <td>0</td>\n",
       "      <td>0</td>\n",
       "      <td>1</td>\n",
       "    </tr>\n",
       "    <tr>\n",
       "      <td>3</td>\n",
       "      <td>10000004</td>\n",
       "      <td>16000</td>\n",
       "      <td>56160.0</td>\n",
       "      <td>14.34</td>\n",
       "      <td>2.5</td>\n",
       "      <td>30.0</td>\n",
       "      <td>16.0</td>\n",
       "      <td>22.0</td>\n",
       "      <td>3</td>\n",
       "      <td>0</td>\n",
       "      <td>0</td>\n",
       "      <td>0</td>\n",
       "      <td>0</td>\n",
       "      <td>0</td>\n",
       "      <td>0</td>\n",
       "      <td>0</td>\n",
       "      <td>0</td>\n",
       "      <td>0</td>\n",
       "      <td>1</td>\n",
       "      <td>0</td>\n",
       "      <td>0</td>\n",
       "      <td>0</td>\n",
       "      <td>0</td>\n",
       "      <td>1</td>\n",
       "      <td>0</td>\n",
       "      <td>0</td>\n",
       "      <td>1</td>\n",
       "      <td>0</td>\n",
       "      <td>0</td>\n",
       "      <td>0</td>\n",
       "      <td>0</td>\n",
       "      <td>0</td>\n",
       "      <td>0</td>\n",
       "      <td>0</td>\n",
       "      <td>0</td>\n",
       "      <td>0</td>\n",
       "      <td>0</td>\n",
       "      <td>0</td>\n",
       "      <td>1</td>\n",
       "    </tr>\n",
       "    <tr>\n",
       "      <td>4</td>\n",
       "      <td>10000005</td>\n",
       "      <td>17000</td>\n",
       "      <td>96000.0</td>\n",
       "      <td>22.17</td>\n",
       "      <td>1.0</td>\n",
       "      <td>35.0</td>\n",
       "      <td>19.0</td>\n",
       "      <td>30.0</td>\n",
       "      <td>1</td>\n",
       "      <td>0</td>\n",
       "      <td>0</td>\n",
       "      <td>0</td>\n",
       "      <td>0</td>\n",
       "      <td>0</td>\n",
       "      <td>0</td>\n",
       "      <td>0</td>\n",
       "      <td>1</td>\n",
       "      <td>0</td>\n",
       "      <td>0</td>\n",
       "      <td>0</td>\n",
       "      <td>0</td>\n",
       "      <td>1</td>\n",
       "      <td>0</td>\n",
       "      <td>1</td>\n",
       "      <td>0</td>\n",
       "      <td>0</td>\n",
       "      <td>1</td>\n",
       "      <td>0</td>\n",
       "      <td>0</td>\n",
       "      <td>0</td>\n",
       "      <td>0</td>\n",
       "      <td>0</td>\n",
       "      <td>0</td>\n",
       "      <td>0</td>\n",
       "      <td>0</td>\n",
       "      <td>0</td>\n",
       "      <td>0</td>\n",
       "      <td>0</td>\n",
       "      <td>0</td>\n",
       "    </tr>\n",
       "    <tr>\n",
       "      <td>...</td>\n",
       "      <td>...</td>\n",
       "      <td>...</td>\n",
       "      <td>...</td>\n",
       "      <td>...</td>\n",
       "      <td>...</td>\n",
       "      <td>...</td>\n",
       "      <td>...</td>\n",
       "      <td>...</td>\n",
       "      <td>...</td>\n",
       "      <td>...</td>\n",
       "      <td>...</td>\n",
       "      <td>...</td>\n",
       "      <td>...</td>\n",
       "      <td>...</td>\n",
       "      <td>...</td>\n",
       "      <td>...</td>\n",
       "      <td>...</td>\n",
       "      <td>...</td>\n",
       "      <td>...</td>\n",
       "      <td>...</td>\n",
       "      <td>...</td>\n",
       "      <td>...</td>\n",
       "      <td>...</td>\n",
       "      <td>...</td>\n",
       "      <td>...</td>\n",
       "      <td>...</td>\n",
       "      <td>...</td>\n",
       "      <td>...</td>\n",
       "      <td>...</td>\n",
       "      <td>...</td>\n",
       "      <td>...</td>\n",
       "      <td>...</td>\n",
       "      <td>...</td>\n",
       "      <td>...</td>\n",
       "      <td>...</td>\n",
       "      <td>...</td>\n",
       "      <td>...</td>\n",
       "      <td>...</td>\n",
       "      <td>...</td>\n",
       "    </tr>\n",
       "    <tr>\n",
       "      <td>164304</td>\n",
       "      <td>10164305</td>\n",
       "      <td>20725</td>\n",
       "      <td>63000.0</td>\n",
       "      <td>13.56</td>\n",
       "      <td>0.0</td>\n",
       "      <td>35.0</td>\n",
       "      <td>13.0</td>\n",
       "      <td>16.0</td>\n",
       "      <td>2</td>\n",
       "      <td>1</td>\n",
       "      <td>0</td>\n",
       "      <td>0</td>\n",
       "      <td>0</td>\n",
       "      <td>0</td>\n",
       "      <td>0</td>\n",
       "      <td>0</td>\n",
       "      <td>0</td>\n",
       "      <td>0</td>\n",
       "      <td>0</td>\n",
       "      <td>0</td>\n",
       "      <td>0</td>\n",
       "      <td>0</td>\n",
       "      <td>1</td>\n",
       "      <td>1</td>\n",
       "      <td>0</td>\n",
       "      <td>1</td>\n",
       "      <td>0</td>\n",
       "      <td>0</td>\n",
       "      <td>0</td>\n",
       "      <td>0</td>\n",
       "      <td>0</td>\n",
       "      <td>0</td>\n",
       "      <td>0</td>\n",
       "      <td>0</td>\n",
       "      <td>0</td>\n",
       "      <td>0</td>\n",
       "      <td>0</td>\n",
       "      <td>0</td>\n",
       "      <td>1</td>\n",
       "    </tr>\n",
       "    <tr>\n",
       "      <td>164305</td>\n",
       "      <td>10164306</td>\n",
       "      <td>6000</td>\n",
       "      <td>63000.0</td>\n",
       "      <td>9.12</td>\n",
       "      <td>0.0</td>\n",
       "      <td>36.0</td>\n",
       "      <td>13.0</td>\n",
       "      <td>30.0</td>\n",
       "      <td>2</td>\n",
       "      <td>0</td>\n",
       "      <td>0</td>\n",
       "      <td>0</td>\n",
       "      <td>0</td>\n",
       "      <td>0</td>\n",
       "      <td>0</td>\n",
       "      <td>0</td>\n",
       "      <td>1</td>\n",
       "      <td>0</td>\n",
       "      <td>0</td>\n",
       "      <td>0</td>\n",
       "      <td>0</td>\n",
       "      <td>1</td>\n",
       "      <td>0</td>\n",
       "      <td>1</td>\n",
       "      <td>0</td>\n",
       "      <td>0</td>\n",
       "      <td>0</td>\n",
       "      <td>0</td>\n",
       "      <td>0</td>\n",
       "      <td>0</td>\n",
       "      <td>0</td>\n",
       "      <td>0</td>\n",
       "      <td>0</td>\n",
       "      <td>0</td>\n",
       "      <td>0</td>\n",
       "      <td>1</td>\n",
       "      <td>0</td>\n",
       "      <td>0</td>\n",
       "      <td>1</td>\n",
       "    </tr>\n",
       "    <tr>\n",
       "      <td>164306</td>\n",
       "      <td>10164307</td>\n",
       "      <td>20250</td>\n",
       "      <td>63000.0</td>\n",
       "      <td>18.17</td>\n",
       "      <td>1.0</td>\n",
       "      <td>30.0</td>\n",
       "      <td>17.0</td>\n",
       "      <td>30.0</td>\n",
       "      <td>1</td>\n",
       "      <td>1</td>\n",
       "      <td>0</td>\n",
       "      <td>0</td>\n",
       "      <td>0</td>\n",
       "      <td>0</td>\n",
       "      <td>0</td>\n",
       "      <td>0</td>\n",
       "      <td>0</td>\n",
       "      <td>0</td>\n",
       "      <td>0</td>\n",
       "      <td>0</td>\n",
       "      <td>0</td>\n",
       "      <td>0</td>\n",
       "      <td>0</td>\n",
       "      <td>0</td>\n",
       "      <td>0</td>\n",
       "      <td>1</td>\n",
       "      <td>0</td>\n",
       "      <td>0</td>\n",
       "      <td>0</td>\n",
       "      <td>0</td>\n",
       "      <td>0</td>\n",
       "      <td>0</td>\n",
       "      <td>0</td>\n",
       "      <td>0</td>\n",
       "      <td>0</td>\n",
       "      <td>0</td>\n",
       "      <td>0</td>\n",
       "      <td>0</td>\n",
       "      <td>1</td>\n",
       "    </tr>\n",
       "    <tr>\n",
       "      <td>164307</td>\n",
       "      <td>10164308</td>\n",
       "      <td>10000</td>\n",
       "      <td>63000.0</td>\n",
       "      <td>18.75</td>\n",
       "      <td>1.0</td>\n",
       "      <td>42.5</td>\n",
       "      <td>16.0</td>\n",
       "      <td>54.5</td>\n",
       "      <td>3</td>\n",
       "      <td>0</td>\n",
       "      <td>0</td>\n",
       "      <td>0</td>\n",
       "      <td>1</td>\n",
       "      <td>0</td>\n",
       "      <td>0</td>\n",
       "      <td>0</td>\n",
       "      <td>0</td>\n",
       "      <td>0</td>\n",
       "      <td>0</td>\n",
       "      <td>0</td>\n",
       "      <td>0</td>\n",
       "      <td>0</td>\n",
       "      <td>1</td>\n",
       "      <td>0</td>\n",
       "      <td>1</td>\n",
       "      <td>0</td>\n",
       "      <td>0</td>\n",
       "      <td>0</td>\n",
       "      <td>0</td>\n",
       "      <td>0</td>\n",
       "      <td>1</td>\n",
       "      <td>0</td>\n",
       "      <td>0</td>\n",
       "      <td>0</td>\n",
       "      <td>0</td>\n",
       "      <td>0</td>\n",
       "      <td>0</td>\n",
       "      <td>0</td>\n",
       "      <td>0</td>\n",
       "    </tr>\n",
       "    <tr>\n",
       "      <td>164308</td>\n",
       "      <td>10164309</td>\n",
       "      <td>9250</td>\n",
       "      <td>63000.0</td>\n",
       "      <td>19.44</td>\n",
       "      <td>1.0</td>\n",
       "      <td>35.0</td>\n",
       "      <td>5.0</td>\n",
       "      <td>9.0</td>\n",
       "      <td>2</td>\n",
       "      <td>1</td>\n",
       "      <td>0</td>\n",
       "      <td>0</td>\n",
       "      <td>0</td>\n",
       "      <td>0</td>\n",
       "      <td>0</td>\n",
       "      <td>0</td>\n",
       "      <td>0</td>\n",
       "      <td>0</td>\n",
       "      <td>0</td>\n",
       "      <td>0</td>\n",
       "      <td>0</td>\n",
       "      <td>0</td>\n",
       "      <td>1</td>\n",
       "      <td>0</td>\n",
       "      <td>0</td>\n",
       "      <td>1</td>\n",
       "      <td>0</td>\n",
       "      <td>0</td>\n",
       "      <td>0</td>\n",
       "      <td>0</td>\n",
       "      <td>0</td>\n",
       "      <td>0</td>\n",
       "      <td>0</td>\n",
       "      <td>0</td>\n",
       "      <td>0</td>\n",
       "      <td>0</td>\n",
       "      <td>0</td>\n",
       "      <td>0</td>\n",
       "      <td>0</td>\n",
       "    </tr>\n",
       "  </tbody>\n",
       "</table>\n",
       "<p>164309 rows × 39 columns</p>\n",
       "</div>"
      ],
      "text/plain": [
       "         Loan_ID  Loan_Amount_Requested  Annual_Income  Debt_To_Income  \\\n",
       "0       10000001                   7000        68000.0           18.37   \n",
       "1       10000002                  30000        63000.0           14.93   \n",
       "2       10000003                  24725        75566.4           15.88   \n",
       "3       10000004                  16000        56160.0           14.34   \n",
       "4       10000005                  17000        96000.0           22.17   \n",
       "...          ...                    ...            ...             ...   \n",
       "164304  10164305                  20725        63000.0           13.56   \n",
       "164305  10164306                   6000        63000.0            9.12   \n",
       "164306  10164307                  20250        63000.0           18.17   \n",
       "164307  10164308                  10000        63000.0           18.75   \n",
       "164308  10164309                   9250        63000.0           19.44   \n",
       "\n",
       "        Inquiries_Last_6Mo  Months_Since_Deliquency  Number_Open_Accounts  \\\n",
       "0                      0.0                     35.0                   9.0   \n",
       "1                      0.0                     22.5                  12.0   \n",
       "2                      0.0                     30.0                  12.0   \n",
       "3                      2.5                     30.0                  16.0   \n",
       "4                      1.0                     35.0                  19.0   \n",
       "...                    ...                      ...                   ...   \n",
       "164304                 0.0                     35.0                  13.0   \n",
       "164305                 0.0                     36.0                  13.0   \n",
       "164306                 1.0                     30.0                  17.0   \n",
       "164307                 1.0                     42.5                  16.0   \n",
       "164308                 1.0                     35.0                   5.0   \n",
       "\n",
       "        Total_Accounts  Interest_Rate  Length_Employed_10+ years  \\\n",
       "0                 14.0              1                          0   \n",
       "1                 24.0              3                          0   \n",
       "2                 16.0              3                          0   \n",
       "3                 22.0              3                          0   \n",
       "4                 30.0              1                          0   \n",
       "...                ...            ...                        ...   \n",
       "164304            16.0              2                          1   \n",
       "164305            30.0              2                          0   \n",
       "164306            30.0              1                          1   \n",
       "164307            54.5              3                          0   \n",
       "164308             9.0              2                          1   \n",
       "\n",
       "        Length_Employed_2 years  Length_Employed_3 years  \\\n",
       "0                             0                        0   \n",
       "1                             0                        0   \n",
       "2                             0                        0   \n",
       "3                             0                        0   \n",
       "4                             0                        0   \n",
       "...                         ...                      ...   \n",
       "164304                        0                        0   \n",
       "164305                        0                        0   \n",
       "164306                        0                        0   \n",
       "164307                        0                        0   \n",
       "164308                        0                        0   \n",
       "\n",
       "        Length_Employed_4 years  Length_Employed_5 years  \\\n",
       "0                             0                        0   \n",
       "1                             1                        0   \n",
       "2                             0                        0   \n",
       "3                             0                        0   \n",
       "4                             0                        0   \n",
       "...                         ...                      ...   \n",
       "164304                        0                        0   \n",
       "164305                        0                        0   \n",
       "164306                        0                        0   \n",
       "164307                        1                        0   \n",
       "164308                        0                        0   \n",
       "\n",
       "        Length_Employed_6 years  Length_Employed_7 years  \\\n",
       "0                             0                        0   \n",
       "1                             0                        0   \n",
       "2                             0                        1   \n",
       "3                             0                        0   \n",
       "4                             0                        0   \n",
       "...                         ...                      ...   \n",
       "164304                        0                        0   \n",
       "164305                        0                        0   \n",
       "164306                        0                        0   \n",
       "164307                        0                        0   \n",
       "164308                        0                        0   \n",
       "\n",
       "        Length_Employed_8 years  Length_Employed_9 years  \\\n",
       "0                             0                        0   \n",
       "1                             0                        0   \n",
       "2                             0                        0   \n",
       "3                             0                        0   \n",
       "4                             1                        0   \n",
       "...                         ...                      ...   \n",
       "164304                        0                        0   \n",
       "164305                        1                        0   \n",
       "164306                        0                        0   \n",
       "164307                        0                        0   \n",
       "164308                        0                        0   \n",
       "\n",
       "        Length_Employed_< 1 year  Home_Owner_None  Home_Owner_Other  \\\n",
       "0                              1                0                 0   \n",
       "1                              0                0                 0   \n",
       "2                              0                0                 0   \n",
       "3                              1                0                 0   \n",
       "4                              0                0                 0   \n",
       "...                          ...              ...               ...   \n",
       "164304                         0                0                 0   \n",
       "164305                         0                0                 0   \n",
       "164306                         0                0                 0   \n",
       "164307                         0                0                 0   \n",
       "164308                         0                0                 0   \n",
       "\n",
       "        Home_Owner_Own  Home_Owner_Rent  \\\n",
       "0                    0                1   \n",
       "1                    0                0   \n",
       "2                    0                0   \n",
       "3                    0                0   \n",
       "4                    1                0   \n",
       "...                ...              ...   \n",
       "164304               0                1   \n",
       "164305               1                0   \n",
       "164306               0                0   \n",
       "164307               0                1   \n",
       "164308               0                1   \n",
       "\n",
       "        Income_Verified_VERIFIED - income source  \\\n",
       "0                                              0   \n",
       "1                                              0   \n",
       "2                                              1   \n",
       "3                                              1   \n",
       "4                                              1   \n",
       "...                                          ...   \n",
       "164304                                         1   \n",
       "164305                                         1   \n",
       "164306                                         0   \n",
       "164307                                         0   \n",
       "164308                                         0   \n",
       "\n",
       "        Income_Verified_not verified  Purpose_Of_Loan_credit_card  \\\n",
       "0                                  1                            0   \n",
       "1                                  0                            0   \n",
       "2                                  0                            0   \n",
       "3                                  0                            0   \n",
       "4                                  0                            0   \n",
       "...                              ...                          ...   \n",
       "164304                             0                            1   \n",
       "164305                             0                            0   \n",
       "164306                             0                            1   \n",
       "164307                             1                            0   \n",
       "164308                             0                            1   \n",
       "\n",
       "        Purpose_Of_Loan_debt_consolidation  Purpose_Of_Loan_educational  \\\n",
       "0                                        0                            0   \n",
       "1                                        1                            0   \n",
       "2                                        1                            0   \n",
       "3                                        1                            0   \n",
       "4                                        1                            0   \n",
       "...                                    ...                          ...   \n",
       "164304                                   0                            0   \n",
       "164305                                   0                            0   \n",
       "164306                                   0                            0   \n",
       "164307                                   0                            0   \n",
       "164308                                   0                            0   \n",
       "\n",
       "        Purpose_Of_Loan_home_improvement  Purpose_Of_Loan_house  \\\n",
       "0                                      0                      0   \n",
       "1                                      0                      0   \n",
       "2                                      0                      0   \n",
       "3                                      0                      0   \n",
       "4                                      0                      0   \n",
       "...                                  ...                    ...   \n",
       "164304                                 0                      0   \n",
       "164305                                 0                      0   \n",
       "164306                                 0                      0   \n",
       "164307                                 0                      0   \n",
       "164308                                 0                      0   \n",
       "\n",
       "        Purpose_Of_Loan_major_purchase  Purpose_Of_Loan_medical  \\\n",
       "0                                    0                        0   \n",
       "1                                    0                        0   \n",
       "2                                    0                        0   \n",
       "3                                    0                        0   \n",
       "4                                    0                        0   \n",
       "...                                ...                      ...   \n",
       "164304                               0                        0   \n",
       "164305                               0                        0   \n",
       "164306                               0                        0   \n",
       "164307                               1                        0   \n",
       "164308                               0                        0   \n",
       "\n",
       "        Purpose_Of_Loan_moving  Purpose_Of_Loan_other  \\\n",
       "0                            0                      0   \n",
       "1                            0                      0   \n",
       "2                            0                      0   \n",
       "3                            0                      0   \n",
       "4                            0                      0   \n",
       "...                        ...                    ...   \n",
       "164304                       0                      0   \n",
       "164305                       0                      0   \n",
       "164306                       0                      0   \n",
       "164307                       0                      0   \n",
       "164308                       0                      0   \n",
       "\n",
       "        Purpose_Of_Loan_renewable_energy  Purpose_Of_Loan_small_business  \\\n",
       "0                                      0                               0   \n",
       "1                                      0                               0   \n",
       "2                                      0                               0   \n",
       "3                                      0                               0   \n",
       "4                                      0                               0   \n",
       "...                                  ...                             ...   \n",
       "164304                                 0                               0   \n",
       "164305                                 0                               1   \n",
       "164306                                 0                               0   \n",
       "164307                                 0                               0   \n",
       "164308                                 0                               0   \n",
       "\n",
       "        Purpose_Of_Loan_vacation  Purpose_Of_Loan_wedding  Gender_Male  \n",
       "0                              0                        0            0  \n",
       "1                              0                        0            0  \n",
       "2                              0                        0            1  \n",
       "3                              0                        0            1  \n",
       "4                              0                        0            0  \n",
       "...                          ...                      ...          ...  \n",
       "164304                         0                        0            1  \n",
       "164305                         0                        0            1  \n",
       "164306                         0                        0            1  \n",
       "164307                         0                        0            0  \n",
       "164308                         0                        0            0  \n",
       "\n",
       "[164309 rows x 39 columns]"
      ]
     },
     "execution_count": 50,
     "metadata": {},
     "output_type": "execute_result"
    }
   ],
   "source": [
    "data_dummy=pd.get_dummies(train,columns=['Length_Employed', 'Home_Owner', 'Income_Verified', 'Purpose_Of_Loan',\n",
    "       'Gender'], drop_first=True)\n",
    "data_dummy"
   ]
  },
  {
   "cell_type": "code",
   "execution_count": 51,
   "metadata": {},
   "outputs": [],
   "source": [
    "data_test_dummy=pd.get_dummies(test,columns=['Length_Employed', 'Home_Owner', 'Income_Verified', 'Purpose_Of_Loan',\n",
    "       'Gender'], drop_first=True)"
   ]
  },
  {
   "cell_type": "code",
   "execution_count": 52,
   "metadata": {},
   "outputs": [],
   "source": [
    "X=data_dummy.drop(['Interest_Rate','Loan_ID'],axis=1)\n",
    "y=data_dummy.Interest_Rate"
   ]
  },
  {
   "cell_type": "code",
   "execution_count": 53,
   "metadata": {},
   "outputs": [],
   "source": [
    "kf = StratifiedKFold(n_splits=5,shuffle=False,random_state=42)"
   ]
  },
  {
   "cell_type": "code",
   "execution_count": 54,
   "metadata": {},
   "outputs": [
    {
     "data": {
      "text/plain": [
       "RandomizedSearchCV(cv=<generator object _BaseKFold.split at 0x0000000307D07448>,\n",
       "                   error_score='raise-deprecating',\n",
       "                   estimator=LGBMClassifier(boosting_type='gbdt',\n",
       "                                            class_weight=None,\n",
       "                                            colsample_bytree=1.0,\n",
       "                                            importance_type='split',\n",
       "                                            learning_rate=0.1, max_depth=-1,\n",
       "                                            min_child_samples=20,\n",
       "                                            min_child_weight=0.001,\n",
       "                                            min_split_gain=0.0,\n",
       "                                            n_estimators=100, n_jobs=-1,\n",
       "                                            num_class=3,...\n",
       "                                        'min_data_in_leaf': [1, 3, 5, 7, 10,\n",
       "                                                             25],\n",
       "                                        'n_estimators': [50, 100, 150, 200, 250,\n",
       "                                                         300, 350, 400, 450,\n",
       "                                                         500, 550, 600, 650,\n",
       "                                                         700, 750, 800, 850,\n",
       "                                                         900, 950, 1000],\n",
       "                                        'num_leaves': [7, 15, 31, 63, 127],\n",
       "                                        'reg_alpha': [0, 0.25, 0.5, 1, 2],\n",
       "                                        'reg_lambda': [0, 0.25, 0.5, 1, 2],\n",
       "                                        'subsample': [0.5, 0.6, 0.7, 0.8, 0.9]},\n",
       "                   pre_dispatch='2*n_jobs', random_state=None, refit=True,\n",
       "                   return_train_score=False, scoring='accuracy', verbose=0)"
      ]
     },
     "execution_count": 54,
     "metadata": {},
     "output_type": "execute_result"
    }
   ],
   "source": [
    "clf = lgb.LGBMClassifier(boosting_type='gbdt',objective='multiclass',num_class=3,random_state=42,n_jobs=-1,verbose=1,)\n",
    "params = {\"max_depth\":[4,6,8,10,-1],\n",
    "          \"learning_rate\":[0.001,0.005,0.01,0.05,0.1,0.3],\n",
    "          \"subsample\":[0.5,0.6,0.7,0.8,0.9],\n",
    "          \"colsample_bytree\":[0.5,0.6,0.7,0.8,0.9],\n",
    "          \"reg_alpha\":[0,0.25,0.5,1,2],\n",
    "          \"reg_lambda\":[0,0.25,0.5,1,2],\n",
    "          \"num_leaves\":[7,15,31,63,127],\n",
    "          \"min_data_in_leaf\":[1,3,5,7,10,25],\n",
    "          \"n_estimators\":list(range(50,1001,50))}\n",
    "random_search = RandomizedSearchCV(estimator=clf,param_distributions=params,cv=kf.split(X,y),scoring='accuracy')\n",
    "random_search.fit(X,y)"
   ]
  },
  {
   "cell_type": "code",
   "execution_count": 60,
   "metadata": {},
   "outputs": [
    {
     "data": {
      "text/plain": [
       "(LGBMClassifier(boosting_type='gbdt', class_weight=None, colsample_bytree=0.9,\n",
       "                importance_type='split', learning_rate=0.1, max_depth=-1,\n",
       "                min_child_samples=20, min_child_weight=0.001, min_data_in_leaf=1,\n",
       "                min_split_gain=0.0, n_estimators=400, n_jobs=-1, num_class=3,\n",
       "                num_leaves=63, objective='multiclass', random_state=42,\n",
       "                reg_alpha=2, reg_lambda=0.5, silent=True, subsample=0.6,\n",
       "                subsample_for_bin=200000, subsample_freq=0, verbose=1),\n",
       " {'subsample': 0.6,\n",
       "  'reg_lambda': 0.5,\n",
       "  'reg_alpha': 2,\n",
       "  'num_leaves': 63,\n",
       "  'n_estimators': 400,\n",
       "  'min_data_in_leaf': 1,\n",
       "  'max_depth': -1,\n",
       "  'learning_rate': 0.1,\n",
       "  'colsample_bytree': 0.9},\n",
       " 0.5406338058170885)"
      ]
     },
     "execution_count": 60,
     "metadata": {},
     "output_type": "execute_result"
    }
   ],
   "source": [
    "random_search.best_estimator_,random_search.best_params_,random_search.best_score_"
   ]
  },
  {
   "cell_type": "code",
   "execution_count": 61,
   "metadata": {},
   "outputs": [
    {
     "data": {
      "text/html": [
       "<div>\n",
       "<style scoped>\n",
       "    .dataframe tbody tr th:only-of-type {\n",
       "        vertical-align: middle;\n",
       "    }\n",
       "\n",
       "    .dataframe tbody tr th {\n",
       "        vertical-align: top;\n",
       "    }\n",
       "\n",
       "    .dataframe thead th {\n",
       "        text-align: right;\n",
       "    }\n",
       "</style>\n",
       "<table border=\"1\" class=\"dataframe\">\n",
       "  <thead>\n",
       "    <tr style=\"text-align: right;\">\n",
       "      <th></th>\n",
       "      <th>mean_fit_time</th>\n",
       "      <th>std_fit_time</th>\n",
       "      <th>mean_score_time</th>\n",
       "      <th>std_score_time</th>\n",
       "      <th>param_subsample</th>\n",
       "      <th>param_reg_lambda</th>\n",
       "      <th>param_reg_alpha</th>\n",
       "      <th>param_num_leaves</th>\n",
       "      <th>param_n_estimators</th>\n",
       "      <th>param_min_data_in_leaf</th>\n",
       "      <th>param_max_depth</th>\n",
       "      <th>param_learning_rate</th>\n",
       "      <th>param_colsample_bytree</th>\n",
       "      <th>params</th>\n",
       "      <th>split0_test_score</th>\n",
       "      <th>split1_test_score</th>\n",
       "      <th>split2_test_score</th>\n",
       "      <th>split3_test_score</th>\n",
       "      <th>split4_test_score</th>\n",
       "      <th>mean_test_score</th>\n",
       "      <th>std_test_score</th>\n",
       "      <th>rank_test_score</th>\n",
       "    </tr>\n",
       "  </thead>\n",
       "  <tbody>\n",
       "    <tr>\n",
       "      <td>0</td>\n",
       "      <td>25.762013</td>\n",
       "      <td>0.362427</td>\n",
       "      <td>2.952099</td>\n",
       "      <td>0.036396</td>\n",
       "      <td>0.5</td>\n",
       "      <td>1</td>\n",
       "      <td>0.5</td>\n",
       "      <td>7</td>\n",
       "      <td>600</td>\n",
       "      <td>25</td>\n",
       "      <td>-1</td>\n",
       "      <td>0.01</td>\n",
       "      <td>0.5</td>\n",
       "      <td>{'subsample': 0.5, 'reg_lambda': 1, 'reg_alpha...</td>\n",
       "      <td>0.523172</td>\n",
       "      <td>0.519932</td>\n",
       "      <td>0.523736</td>\n",
       "      <td>0.524482</td>\n",
       "      <td>0.525212</td>\n",
       "      <td>0.523307</td>\n",
       "      <td>0.001822</td>\n",
       "      <td>5</td>\n",
       "    </tr>\n",
       "    <tr>\n",
       "      <td>1</td>\n",
       "      <td>5.661223</td>\n",
       "      <td>0.022317</td>\n",
       "      <td>0.648862</td>\n",
       "      <td>0.016657</td>\n",
       "      <td>0.6</td>\n",
       "      <td>0.5</td>\n",
       "      <td>0</td>\n",
       "      <td>127</td>\n",
       "      <td>50</td>\n",
       "      <td>1</td>\n",
       "      <td>10</td>\n",
       "      <td>0.05</td>\n",
       "      <td>0.6</td>\n",
       "      <td>{'subsample': 0.6, 'reg_lambda': 0.5, 'reg_alp...</td>\n",
       "      <td>0.531996</td>\n",
       "      <td>0.529578</td>\n",
       "      <td>0.531587</td>\n",
       "      <td>0.532698</td>\n",
       "      <td>0.531329</td>\n",
       "      <td>0.531438</td>\n",
       "      <td>0.001039</td>\n",
       "      <td>4</td>\n",
       "    </tr>\n",
       "    <tr>\n",
       "      <td>2</td>\n",
       "      <td>4.079299</td>\n",
       "      <td>0.041717</td>\n",
       "      <td>0.441514</td>\n",
       "      <td>0.010115</td>\n",
       "      <td>0.6</td>\n",
       "      <td>0.5</td>\n",
       "      <td>0</td>\n",
       "      <td>31</td>\n",
       "      <td>50</td>\n",
       "      <td>25</td>\n",
       "      <td>8</td>\n",
       "      <td>0.01</td>\n",
       "      <td>0.6</td>\n",
       "      <td>{'subsample': 0.6, 'reg_lambda': 0.5, 'reg_alp...</td>\n",
       "      <td>0.482518</td>\n",
       "      <td>0.483720</td>\n",
       "      <td>0.487524</td>\n",
       "      <td>0.485287</td>\n",
       "      <td>0.486291</td>\n",
       "      <td>0.485068</td>\n",
       "      <td>0.001783</td>\n",
       "      <td>10</td>\n",
       "    </tr>\n",
       "    <tr>\n",
       "      <td>3</td>\n",
       "      <td>21.171341</td>\n",
       "      <td>0.182835</td>\n",
       "      <td>2.399706</td>\n",
       "      <td>0.156961</td>\n",
       "      <td>0.6</td>\n",
       "      <td>1</td>\n",
       "      <td>0</td>\n",
       "      <td>15</td>\n",
       "      <td>550</td>\n",
       "      <td>10</td>\n",
       "      <td>6</td>\n",
       "      <td>0.3</td>\n",
       "      <td>0.8</td>\n",
       "      <td>{'subsample': 0.6, 'reg_lambda': 1, 'reg_alpha...</td>\n",
       "      <td>0.536409</td>\n",
       "      <td>0.539072</td>\n",
       "      <td>0.539103</td>\n",
       "      <td>0.540367</td>\n",
       "      <td>0.537050</td>\n",
       "      <td>0.538400</td>\n",
       "      <td>0.001456</td>\n",
       "      <td>2</td>\n",
       "    </tr>\n",
       "    <tr>\n",
       "      <td>4</td>\n",
       "      <td>27.109030</td>\n",
       "      <td>0.488422</td>\n",
       "      <td>3.111202</td>\n",
       "      <td>0.151615</td>\n",
       "      <td>0.6</td>\n",
       "      <td>0.5</td>\n",
       "      <td>2</td>\n",
       "      <td>63</td>\n",
       "      <td>400</td>\n",
       "      <td>1</td>\n",
       "      <td>-1</td>\n",
       "      <td>0.1</td>\n",
       "      <td>0.9</td>\n",
       "      <td>{'subsample': 0.6, 'reg_lambda': 0.5, 'reg_alp...</td>\n",
       "      <td>0.539208</td>\n",
       "      <td>0.541689</td>\n",
       "      <td>0.541416</td>\n",
       "      <td>0.540397</td>\n",
       "      <td>0.540458</td>\n",
       "      <td>0.540634</td>\n",
       "      <td>0.000877</td>\n",
       "      <td>1</td>\n",
       "    </tr>\n",
       "    <tr>\n",
       "      <td>5</td>\n",
       "      <td>11.428459</td>\n",
       "      <td>0.127760</td>\n",
       "      <td>1.349159</td>\n",
       "      <td>0.114619</td>\n",
       "      <td>0.8</td>\n",
       "      <td>0.5</td>\n",
       "      <td>0.25</td>\n",
       "      <td>15</td>\n",
       "      <td>200</td>\n",
       "      <td>1</td>\n",
       "      <td>6</td>\n",
       "      <td>0.005</td>\n",
       "      <td>0.5</td>\n",
       "      <td>{'subsample': 0.8, 'reg_lambda': 0.5, 'reg_alp...</td>\n",
       "      <td>0.500776</td>\n",
       "      <td>0.499300</td>\n",
       "      <td>0.501643</td>\n",
       "      <td>0.501567</td>\n",
       "      <td>0.503028</td>\n",
       "      <td>0.501263</td>\n",
       "      <td>0.001220</td>\n",
       "      <td>6</td>\n",
       "    </tr>\n",
       "    <tr>\n",
       "      <td>6</td>\n",
       "      <td>60.537039</td>\n",
       "      <td>1.786900</td>\n",
       "      <td>12.095766</td>\n",
       "      <td>1.452477</td>\n",
       "      <td>0.8</td>\n",
       "      <td>2</td>\n",
       "      <td>0.5</td>\n",
       "      <td>127</td>\n",
       "      <td>550</td>\n",
       "      <td>10</td>\n",
       "      <td>-1</td>\n",
       "      <td>0.001</td>\n",
       "      <td>0.6</td>\n",
       "      <td>{'subsample': 0.8, 'reg_lambda': 2, 'reg_alpha...</td>\n",
       "      <td>0.495116</td>\n",
       "      <td>0.496257</td>\n",
       "      <td>0.497992</td>\n",
       "      <td>0.496029</td>\n",
       "      <td>0.497794</td>\n",
       "      <td>0.496637</td>\n",
       "      <td>0.001095</td>\n",
       "      <td>8</td>\n",
       "    </tr>\n",
       "    <tr>\n",
       "      <td>7</td>\n",
       "      <td>32.192148</td>\n",
       "      <td>0.246223</td>\n",
       "      <td>4.189577</td>\n",
       "      <td>0.259736</td>\n",
       "      <td>0.7</td>\n",
       "      <td>1</td>\n",
       "      <td>0</td>\n",
       "      <td>127</td>\n",
       "      <td>450</td>\n",
       "      <td>7</td>\n",
       "      <td>-1</td>\n",
       "      <td>0.1</td>\n",
       "      <td>0.7</td>\n",
       "      <td>{'subsample': 0.7, 'reg_lambda': 1, 'reg_alpha...</td>\n",
       "      <td>0.534157</td>\n",
       "      <td>0.538799</td>\n",
       "      <td>0.540594</td>\n",
       "      <td>0.537537</td>\n",
       "      <td>0.536441</td>\n",
       "      <td>0.537506</td>\n",
       "      <td>0.002171</td>\n",
       "      <td>3</td>\n",
       "    </tr>\n",
       "    <tr>\n",
       "      <td>8</td>\n",
       "      <td>11.480539</td>\n",
       "      <td>0.103151</td>\n",
       "      <td>1.045510</td>\n",
       "      <td>0.010858</td>\n",
       "      <td>0.9</td>\n",
       "      <td>2</td>\n",
       "      <td>1</td>\n",
       "      <td>63</td>\n",
       "      <td>200</td>\n",
       "      <td>5</td>\n",
       "      <td>4</td>\n",
       "      <td>0.005</td>\n",
       "      <td>0.8</td>\n",
       "      <td>{'subsample': 0.9, 'reg_lambda': 2, 'reg_alpha...</td>\n",
       "      <td>0.499133</td>\n",
       "      <td>0.496135</td>\n",
       "      <td>0.499909</td>\n",
       "      <td>0.500198</td>\n",
       "      <td>0.500776</td>\n",
       "      <td>0.499230</td>\n",
       "      <td>0.001635</td>\n",
       "      <td>7</td>\n",
       "    </tr>\n",
       "    <tr>\n",
       "      <td>9</td>\n",
       "      <td>31.051406</td>\n",
       "      <td>0.219388</td>\n",
       "      <td>3.064958</td>\n",
       "      <td>0.062947</td>\n",
       "      <td>0.5</td>\n",
       "      <td>2</td>\n",
       "      <td>0.5</td>\n",
       "      <td>7</td>\n",
       "      <td>700</td>\n",
       "      <td>25</td>\n",
       "      <td>4</td>\n",
       "      <td>0.001</td>\n",
       "      <td>0.6</td>\n",
       "      <td>{'subsample': 0.5, 'reg_lambda': 2, 'reg_alpha...</td>\n",
       "      <td>0.484983</td>\n",
       "      <td>0.482198</td>\n",
       "      <td>0.488163</td>\n",
       "      <td>0.484343</td>\n",
       "      <td>0.487082</td>\n",
       "      <td>0.485354</td>\n",
       "      <td>0.002097</td>\n",
       "      <td>9</td>\n",
       "    </tr>\n",
       "  </tbody>\n",
       "</table>\n",
       "</div>"
      ],
      "text/plain": [
       "   mean_fit_time  std_fit_time  mean_score_time  std_score_time  \\\n",
       "0      25.762013      0.362427         2.952099        0.036396   \n",
       "1       5.661223      0.022317         0.648862        0.016657   \n",
       "2       4.079299      0.041717         0.441514        0.010115   \n",
       "3      21.171341      0.182835         2.399706        0.156961   \n",
       "4      27.109030      0.488422         3.111202        0.151615   \n",
       "5      11.428459      0.127760         1.349159        0.114619   \n",
       "6      60.537039      1.786900        12.095766        1.452477   \n",
       "7      32.192148      0.246223         4.189577        0.259736   \n",
       "8      11.480539      0.103151         1.045510        0.010858   \n",
       "9      31.051406      0.219388         3.064958        0.062947   \n",
       "\n",
       "  param_subsample param_reg_lambda param_reg_alpha param_num_leaves  \\\n",
       "0             0.5                1             0.5                7   \n",
       "1             0.6              0.5               0              127   \n",
       "2             0.6              0.5               0               31   \n",
       "3             0.6                1               0               15   \n",
       "4             0.6              0.5               2               63   \n",
       "5             0.8              0.5            0.25               15   \n",
       "6             0.8                2             0.5              127   \n",
       "7             0.7                1               0              127   \n",
       "8             0.9                2               1               63   \n",
       "9             0.5                2             0.5                7   \n",
       "\n",
       "  param_n_estimators param_min_data_in_leaf param_max_depth  \\\n",
       "0                600                     25              -1   \n",
       "1                 50                      1              10   \n",
       "2                 50                     25               8   \n",
       "3                550                     10               6   \n",
       "4                400                      1              -1   \n",
       "5                200                      1               6   \n",
       "6                550                     10              -1   \n",
       "7                450                      7              -1   \n",
       "8                200                      5               4   \n",
       "9                700                     25               4   \n",
       "\n",
       "  param_learning_rate param_colsample_bytree  \\\n",
       "0                0.01                    0.5   \n",
       "1                0.05                    0.6   \n",
       "2                0.01                    0.6   \n",
       "3                 0.3                    0.8   \n",
       "4                 0.1                    0.9   \n",
       "5               0.005                    0.5   \n",
       "6               0.001                    0.6   \n",
       "7                 0.1                    0.7   \n",
       "8               0.005                    0.8   \n",
       "9               0.001                    0.6   \n",
       "\n",
       "                                              params  split0_test_score  \\\n",
       "0  {'subsample': 0.5, 'reg_lambda': 1, 'reg_alpha...           0.523172   \n",
       "1  {'subsample': 0.6, 'reg_lambda': 0.5, 'reg_alp...           0.531996   \n",
       "2  {'subsample': 0.6, 'reg_lambda': 0.5, 'reg_alp...           0.482518   \n",
       "3  {'subsample': 0.6, 'reg_lambda': 1, 'reg_alpha...           0.536409   \n",
       "4  {'subsample': 0.6, 'reg_lambda': 0.5, 'reg_alp...           0.539208   \n",
       "5  {'subsample': 0.8, 'reg_lambda': 0.5, 'reg_alp...           0.500776   \n",
       "6  {'subsample': 0.8, 'reg_lambda': 2, 'reg_alpha...           0.495116   \n",
       "7  {'subsample': 0.7, 'reg_lambda': 1, 'reg_alpha...           0.534157   \n",
       "8  {'subsample': 0.9, 'reg_lambda': 2, 'reg_alpha...           0.499133   \n",
       "9  {'subsample': 0.5, 'reg_lambda': 2, 'reg_alpha...           0.484983   \n",
       "\n",
       "   split1_test_score  split2_test_score  split3_test_score  split4_test_score  \\\n",
       "0           0.519932           0.523736           0.524482           0.525212   \n",
       "1           0.529578           0.531587           0.532698           0.531329   \n",
       "2           0.483720           0.487524           0.485287           0.486291   \n",
       "3           0.539072           0.539103           0.540367           0.537050   \n",
       "4           0.541689           0.541416           0.540397           0.540458   \n",
       "5           0.499300           0.501643           0.501567           0.503028   \n",
       "6           0.496257           0.497992           0.496029           0.497794   \n",
       "7           0.538799           0.540594           0.537537           0.536441   \n",
       "8           0.496135           0.499909           0.500198           0.500776   \n",
       "9           0.482198           0.488163           0.484343           0.487082   \n",
       "\n",
       "   mean_test_score  std_test_score  rank_test_score  \n",
       "0         0.523307        0.001822                5  \n",
       "1         0.531438        0.001039                4  \n",
       "2         0.485068        0.001783               10  \n",
       "3         0.538400        0.001456                2  \n",
       "4         0.540634        0.000877                1  \n",
       "5         0.501263        0.001220                6  \n",
       "6         0.496637        0.001095                8  \n",
       "7         0.537506        0.002171                3  \n",
       "8         0.499230        0.001635                7  \n",
       "9         0.485354        0.002097                9  "
      ]
     },
     "execution_count": 61,
     "metadata": {},
     "output_type": "execute_result"
    }
   ],
   "source": [
    "pd.DataFrame(random_search.cv_results_)"
   ]
  },
  {
   "cell_type": "code",
   "execution_count": 62,
   "metadata": {},
   "outputs": [
    {
     "data": {
      "text/plain": [
       "<matplotlib.axes._subplots.AxesSubplot at 0x307c92288>"
      ]
     },
     "execution_count": 62,
     "metadata": {},
     "output_type": "execute_result"
    },
    {
     "data": {
      "image/png": "[encoded data removed]",
      "text/plain": [
       "<Figure size 1296x432 with 1 Axes>"
      ]
     },
     "metadata": {
      "needs_background": "light"
     },
     "output_type": "display_data"
    }
   ],
   "source": [
    "plt.figure(figsize=(18,6))\n",
    "ser = pd.Series(random_search.best_estimator_.feature_importances_,X.columns).sort_values()\n",
    "ser.plot(kind='bar')"
   ]
  },
  {
   "cell_type": "code",
   "execution_count": 79,
   "metadata": {},
   "outputs": [
    {
     "data": {
      "text/plain": [
       "LGBMClassifier(boosting_type='gbdt', class_weight=None, colsample_bytree=0.9,\n",
       "               importance_type='split', learning_rate=0.1, max_depth=-1,\n",
       "               min_child_samples=20, min_child_weight=0.001, min_data_in_leaf=1,\n",
       "               min_split_gain=0.0, n_estimators=400, n_jobs=-1, num_class=3,\n",
       "               num_leaves=63, objective='multiclass', random_state=42,\n",
       "               reg_alpha=2, reg_lambda=0.5, silent=True, subsample=0.6,\n",
       "               subsample_for_bin=200000, subsample_freq=0, verbose=1)"
      ]
     },
     "execution_count": 79,
     "metadata": {},
     "output_type": "execute_result"
    }
   ],
   "source": [
    "random_search.best_estimator_"
   ]
  },
  {
   "cell_type": "code",
   "execution_count": 64,
   "metadata": {},
   "outputs": [
    {
     "name": "stderr",
     "output_type": "stream",
     "text": [
      "C:\\Users\\Dell\\Anaconda3\\lib\\site-packages\\ipykernel_launcher.py:1: SettingWithCopyWarning: \n",
      "A value is trying to be set on a copy of a slice from a DataFrame.\n",
      "Try using .loc[row_indexer,col_indexer] = value instead\n",
      "\n",
      "See the caveats in the documentation: http://pandas.pydata.org/pandas-docs/stable/user_guide/indexing.html#returning-a-view-versus-a-copy\n",
      "  \"\"\"Entry point for launching an IPython kernel.\n"
     ]
    }
   ],
   "source": [
    "Submission['Interest_Rate'] = random_search.best_estimator_.predict(data_test_dummy)\n",
    "Submission.to_csv(\"Sub_13.csv\",index=None)"
   ]
  },
  {
   "cell_type": "code",
   "execution_count": 65,
   "metadata": {},
   "outputs": [],
   "source": [
    "y_pred=random_search.best_estimator_.predict(X)"
   ]
  },
  {
   "cell_type": "code",
   "execution_count": 71,
   "metadata": {},
   "outputs": [],
   "source": [
    "from sklearn import metrics"
   ]
  },
  {
   "cell_type": "code",
   "execution_count": 78,
   "metadata": {},
   "outputs": [
    {
     "data": {
      "text/plain": [
       "['              precision    recall  f1-score   support',\n",
       " '',\n",
       " '           1       0.65      0.36      0.46     33806',\n",
       " '           2       0.58      0.71      0.64     70580',\n",
       " '           3       0.67      0.65      0.66     59923',\n",
       " '',\n",
       " '    accuracy                           0.62    164309',\n",
       " '   macro avg       0.63      0.58      0.59    164309',\n",
       " 'weighted avg       0.63      0.62      0.61    164309',\n",
       " '']"
      ]
     },
     "execution_count": 78,
     "metadata": {},
     "output_type": "execute_result"
    }
   ],
   "source": [
    "metrics.classification_report(y, y_pred).split('\\n')"
   ]
  },
  {
   "cell_type": "code",
   "execution_count": 70,
   "metadata": {},
   "outputs": [
    {
     "data": {
      "text/html": [
       "<div>\n",
       "<style scoped>\n",
       "    .dataframe tbody tr th:only-of-type {\n",
       "        vertical-align: middle;\n",
       "    }\n",
       "\n",
       "    .dataframe tbody tr th {\n",
       "        vertical-align: top;\n",
       "    }\n",
       "\n",
       "    .dataframe thead th {\n",
       "        text-align: right;\n",
       "    }\n",
       "</style>\n",
       "<table border=\"1\" class=\"dataframe\">\n",
       "  <thead>\n",
       "    <tr style=\"text-align: right;\">\n",
       "      <th></th>\n",
       "      <th>Loan_ID</th>\n",
       "      <th>Interest_Rate</th>\n",
       "    </tr>\n",
       "  </thead>\n",
       "  <tbody>\n",
       "    <tr>\n",
       "      <td>0</td>\n",
       "      <td>10164310</td>\n",
       "      <td>2</td>\n",
       "    </tr>\n",
       "    <tr>\n",
       "      <td>1</td>\n",
       "      <td>10164311</td>\n",
       "      <td>2</td>\n",
       "    </tr>\n",
       "    <tr>\n",
       "      <td>2</td>\n",
       "      <td>10164312</td>\n",
       "      <td>3</td>\n",
       "    </tr>\n",
       "    <tr>\n",
       "      <td>3</td>\n",
       "      <td>10164313</td>\n",
       "      <td>2</td>\n",
       "    </tr>\n",
       "    <tr>\n",
       "      <td>4</td>\n",
       "      <td>10164314</td>\n",
       "      <td>2</td>\n",
       "    </tr>\n",
       "    <tr>\n",
       "      <td>...</td>\n",
       "      <td>...</td>\n",
       "      <td>...</td>\n",
       "    </tr>\n",
       "    <tr>\n",
       "      <td>109536</td>\n",
       "      <td>10273846</td>\n",
       "      <td>3</td>\n",
       "    </tr>\n",
       "    <tr>\n",
       "      <td>109537</td>\n",
       "      <td>10273847</td>\n",
       "      <td>2</td>\n",
       "    </tr>\n",
       "    <tr>\n",
       "      <td>109538</td>\n",
       "      <td>10273848</td>\n",
       "      <td>2</td>\n",
       "    </tr>\n",
       "    <tr>\n",
       "      <td>109539</td>\n",
       "      <td>10273849</td>\n",
       "      <td>3</td>\n",
       "    </tr>\n",
       "    <tr>\n",
       "      <td>109540</td>\n",
       "      <td>10273850</td>\n",
       "      <td>2</td>\n",
       "    </tr>\n",
       "  </tbody>\n",
       "</table>\n",
       "<p>109541 rows × 2 columns</p>\n",
       "</div>"
      ],
      "text/plain": [
       "         Loan_ID  Interest_Rate\n",
       "0       10164310              2\n",
       "1       10164311              2\n",
       "2       10164312              3\n",
       "3       10164313              2\n",
       "4       10164314              2\n",
       "...          ...            ...\n",
       "109536  10273846              3\n",
       "109537  10273847              2\n",
       "109538  10273848              2\n",
       "109539  10273849              3\n",
       "109540  10273850              2\n",
       "\n",
       "[109541 rows x 2 columns]"
      ]
     },
     "execution_count": 70,
     "metadata": {},
     "output_type": "execute_result"
    }
   ],
   "source": [
    "pd.read_csv('Sub_13.csv')"
   ]
  },
  {
   "cell_type": "code",
   "execution_count": null,
   "metadata": {},
   "outputs": [],
   "source": []
  }
 ],
 "metadata": {
  "kernelspec": {
   "display_name": "Python 3",
   "language": "python",
   "name": "python3"
  },
  "language_info": {
   "codemirror_mode": {
    "name": "ipython",
    "version": 3
   },
   "file_extension": ".py",
   "mimetype": "text/x-python",
   "name": "python",
   "nbconvert_exporter": "python",
   "pygments_lexer": "ipython3",
   "version": "3.7.4"
  }
 },
 "nbformat": 4,
 "nbformat_minor": 2
}
